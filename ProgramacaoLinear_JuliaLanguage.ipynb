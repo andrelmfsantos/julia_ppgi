{
 "cells": [
  {
   "cell_type": "markdown",
   "id": "d7fd5eef",
   "metadata": {},
   "source": [
    "<pre>\n",
    "<img align=\"center\" width=\"300\" src=\"https://portal.coren-sp.gov.br/wp-content/uploads/2014/11/logo%20uninove.png\">\n",
    "</pre>\n",
    "\n",
    "<pre>\n",
    "<img align=\"left\" width=\"150\" src=\"https://camo.githubusercontent.com/bdc6a3b8963aa99ff57dfd6e1e4b937bd2e752bcb1f1936f90368e5c3a38f670/68747470733a2f2f696d672e736869656c64732e696f2f62616467652f4c6963656e73652d434325323042592d2d5341253230342e302d6c69676874677265792e737667\">\n",
    "</pre>"
   ]
  },
  {
   "cell_type": "markdown",
   "id": "3c1e52bf",
   "metadata": {},
   "source": [
    "* __PPGI - UNINOVE__\n",
    "* Computação Científica com Julia\n",
    "* Prof. José E. Storópoli\n",
    "* Aluno: André Santos"
   ]
  },
  {
   "cell_type": "markdown",
   "id": "001a33c4",
   "metadata": {},
   "source": [
    "# Parte 1 - definição do problema"
   ]
  },
  {
   "cell_type": "markdown",
   "id": "6c436021",
   "metadata": {},
   "source": [
    "Exemplo sobre política de empréstimo adaptado de [Jaafar Ballout, 2021](https://www.supplychaindataanalytics.com/linear-programming-in-julia-with-glpk-and-jump/)"
   ]
  },
  {
   "cell_type": "markdown",
   "id": "d0c14717",
   "metadata": {},
   "source": [
    "| Tipo de empréstimo | Taxas | Índice de inadimplência |\n",
    "|:------------------ |------:|------------------------:|\n",
    "| Pessoal            | 0.14  |0.1                      |\n",
    "| Automóvel          | 0.13  |0.07                     |\n",
    "| Habitação          | 0.12  |0.03                     |\n",
    "| Agrícola           | 0.125 |0.05                      |\n",
    "| Comercial          | 0.10  |0.02                     |"
   ]
  },
  {
   "cell_type": "markdown",
   "id": "08353058",
   "metadata": {},
   "source": [
    "__Problema:__\n",
    "\n",
    "Um banco está elaborando uma política de empréstimos que envolve um máximo de US$ 12 milhões. A tabela, mostrada acima, fornece os dados sobre os empréstimos disponíveis. É importante notar que as inadimplências são irrecuperáveis e não geram receita de juros. A concorrência com outras instituições financeiras determina a destinação de pelo menos 40\\% dos recursos para empréstimos agrícolas e comerciais. Para ajudar o setor imobiliário da região, os empréstimos à habitação devem equivaler a pelo menos 50\\% dos empréstimos pessoais e de automóveis. O banco limita o índice geral de inadimplência em todos os empréstimos a no máximo 4\\%."
   ]
  },
  {
   "cell_type": "markdown",
   "id": "8403d175",
   "metadata": {},
   "source": [
    "__Variáveis de decisão (empréstimos)__\n",
    "\n",
    "* x1 = pessoal\n",
    "* x2 = automóvel\n",
    "* x3 = habitação\n",
    "* x4 = agrícola\n",
    "* x5 = comercial"
   ]
  },
  {
   "cell_type": "markdown",
   "id": "e7928dc6",
   "metadata": {},
   "source": [
    "__Função Objetivo (maximizar o lucro)__\n",
    "\n",
    "O lucro é a diferença entre as receitas geradas pelas taxas de juros e as perdas devido ao índice de inadimplências:\n",
    "\n",
    "$lucro = receitas - perdas$ \\\n",
    "$receitas = 0.14((1-0.1)x_1) + 0.13((1-0.07)x_2) + 0.12((1-0.03)x_3) + 0.125((1-0.05)x_4) + 0.10((1-0.02)x_5)$ \\\n",
    "$receitas = 0.14(0.9x_1) + 0.13(0.93x_2) + 0.12(0.97x_3) + 0.125(0.95x_4) + 0.10(0.98x_5)$ \\\n",
    "$receitas = 0.126x_1 + 0.1209x_2 + 0.1164x_3 + 0.11875x_4 + 0.098x_5$ \\\n",
    "$perdas = 0.1x_1 + 0.07x_2 + 0.03x_3 + 0.05x_4 + 0.02x_5$\n",
    "\n",
    "$ max_z = (0.126x_1 - 0.1x_1) + (0.1209x_2 - 0.07x_2) + (0.1164x_3 - 0.03x_3) + (0.11875x_4 - 0.05x_4) + (0.0098x_5 - 0.02x_5)$ \\\n",
    "$ max_z = 0.26x_1 + 0.0509x_2 + 0.0864x_3 + 0.06875x_4 + 0.0078x_5$"
   ]
  },
  {
   "cell_type": "markdown",
   "id": "bddba214",
   "metadata": {},
   "source": [
    "__Restrições__\n",
    "\n",
    "Soma dos empréstimos deve ser menor ou igual a US$ 12 milhões:\n",
    "\n",
    "$x_1 + x_2 + x_3 + x_4 + x_5 \\leq 12$\n",
    "\n",
    "Os empréstimos agrícolas e comerciais equivalem a 40\\% ou mais de todos os empréstimos:\n",
    "\n",
    "$x_4 + x_5 \\geq 0.4(x_1 + x_2 + x_3 + x_4 + x_5)$ \\\n",
    "$0.4x_1 + 0.4x_2 + 0.4x_3 - 0.6x_4 - 0.6x_5 \\leq 0$\n",
    "\n",
    "Os empréstimos para habitação devem ser maiores ou iguais a 50\\% dos empréstimos pessoais e automóveis:\n",
    "\n",
    "$x_3 \\geq 0.5(x_1 + x_2)$ \\\n",
    "$0.5x_1 + 0.5x_2 - x_3 \\leq 0$\n",
    "\n",
    "As inadimplências não devem exceder 4\\% de todos os empréstimos:\n",
    "\n",
    "$0.06x_1 + 0.03x_2 - 0.01x_3 + 0.01x_4 - 0.02x_5 \\leq 0$\n",
    "\n",
    "Não negatividade:\n",
    "\n",
    "$x_1, x_2, x_3, x_4, x_5 \\geq 0$"
   ]
  },
  {
   "cell_type": "markdown",
   "id": "7b5cb84e",
   "metadata": {},
   "source": [
    "# Parte 2 - aplicação da programação linear"
   ]
  },
  {
   "cell_type": "code",
   "execution_count": 1,
   "id": "64f881a2",
   "metadata": {},
   "outputs": [
    {
     "name": "stderr",
     "output_type": "stream",
     "text": [
      "\u001b[32m\u001b[1m    Updating\u001b[22m\u001b[39m registry at `~/.julia/registries/General.toml`\n",
      "\u001b[32m\u001b[1m   Resolving\u001b[22m\u001b[39m package versions...\n",
      "\u001b[32m\u001b[1m  No Changes\u001b[22m\u001b[39m to `~/.julia/environments/v1.7/Project.toml`\n",
      "\u001b[32m\u001b[1m  No Changes\u001b[22m\u001b[39m to `~/.julia/environments/v1.7/Manifest.toml`\n",
      "\u001b[32m\u001b[1m   Resolving\u001b[22m\u001b[39m package versions...\n",
      "\u001b[32m\u001b[1m  No Changes\u001b[22m\u001b[39m to `~/.julia/environments/v1.7/Project.toml`\n",
      "\u001b[32m\u001b[1m  No Changes\u001b[22m\u001b[39m to `~/.julia/environments/v1.7/Manifest.toml`\n"
     ]
    }
   ],
   "source": [
    "# Instalar pacotes\n",
    "using Pkg\n",
    "Pkg.add(\"JuMP\") # pacote para otimização matemática\n",
    "Pkg.add(\"GLPK\") # solver"
   ]
  },
  {
   "cell_type": "code",
   "execution_count": 2,
   "id": "aa5dc444",
   "metadata": {},
   "outputs": [],
   "source": [
    "# Carregar pacotes\n",
    "using JuMP\n",
    "using GLPK"
   ]
  },
  {
   "cell_type": "code",
   "execution_count": 3,
   "id": "8f0a708a",
   "metadata": {},
   "outputs": [],
   "source": [
    "# Definir o modelo\n",
    "BM = Model() # Modelo\n",
    "\n",
    "# Configurar o otimizador\n",
    "set_optimizer(BM,GLPK.Optimizer)\n",
    "\n",
    "# Definir variáveis\n",
    "@variable(BM, x1>=0)\n",
    "@variable(BM, x2>=0)\n",
    "@variable(BM, x3>=0)\n",
    "@variable(BM, x4>=0)\n",
    "@variable(BM, x5>=0)\n",
    "\n",
    "# Definir restrições\n",
    "@constraint(BM, x1+x2+x3+x4+x5<=12)\n",
    "@constraint(BM, 0.4x1+0.4x2+0.4x3-0.6x4-0.6x5<=0)\n",
    "@constraint(BM, 0.5x1+0.5x2-x3<=0)\n",
    "@constraint(BM, 0.06x1+0.03x2-0.01x3+0.01x4-0.02x5<=0)\n",
    "\n",
    "# Definir função objetivo\n",
    "@objective(BM, Max, 0.026x1+0.0509x2+0.0864x3+0.06875x4+0.078x5)\n",
    "\n",
    "# Executar modelo\n",
    "optimize!(BM)"
   ]
  },
  {
   "cell_type": "code",
   "execution_count": 4,
   "id": "f15327ce",
   "metadata": {},
   "outputs": [
    {
     "data": {
      "text/plain": [
       "A JuMP Model\n",
       "Maximization problem with:\n",
       "Variables: 5\n",
       "Objective function type: AffExpr\n",
       "`AffExpr`-in-`MathOptInterface.LessThan{Float64}`: 4 constraints\n",
       "`VariableRef`-in-`MathOptInterface.GreaterThan{Float64}`: 5 constraints\n",
       "Model mode: AUTOMATIC\n",
       "CachingOptimizer state: ATTACHED_OPTIMIZER\n",
       "Solver name: GLPK\n",
       "Names registered in the model: x1, x2, x3, x4, x5"
      ]
     },
     "execution_count": 4,
     "metadata": {},
     "output_type": "execute_result"
    }
   ],
   "source": [
    "# Saída do modelo:\n",
    "BM"
   ]
  },
  {
   "cell_type": "code",
   "execution_count": 5,
   "id": "15786477",
   "metadata": {},
   "outputs": [
    {
     "data": {
      "text/plain": [
       "0.99648"
      ]
     },
     "execution_count": 5,
     "metadata": {},
     "output_type": "execute_result"
    }
   ],
   "source": [
    "# Valor da função objetivo (lucro do banco em milhões de dólares):\n",
    "objective_value(BM)"
   ]
  },
  {
   "cell_type": "code",
   "execution_count": 6,
   "id": "1d3447ec",
   "metadata": {},
   "outputs": [
    {
     "data": {
      "text/plain": [
       "MAX_SENSE::OptimizationSense = 1"
      ]
     },
     "execution_count": 6,
     "metadata": {},
     "output_type": "execute_result"
    }
   ],
   "source": [
    "# Sensibilidade\n",
    "objective_sense(BM)"
   ]
  },
  {
   "cell_type": "code",
   "execution_count": 7,
   "id": "72d65c15",
   "metadata": {},
   "outputs": [
    {
     "name": "stdout",
     "output_type": "stream",
     "text": [
      "x1 = 0.0\n",
      "x2 = 0.0\n",
      "x3 = 7.199999999999999\n",
      "x4 = 0.0\n",
      "x5 = 4.8\n"
     ]
    }
   ],
   "source": [
    "# Variáveis otimizadas:\n",
    "println(\"x1 = \", value.(x1),\n",
    "    \"\\n\",\"x2 = \",value.(x2),\n",
    "    \"\\n\", \"x3 = \",value.(x3),\n",
    "    \"\\n\", \"x4 = \",value.(x4),\n",
    "    \"\\n\", \"x5 = \",value.(x5))"
   ]
  },
  {
   "cell_type": "markdown",
   "id": "d0d242b3",
   "metadata": {},
   "source": [
    "__Conclusão:__\n",
    "\n",
    "O resultado indica que o banco deve gastar, aproximadamente $7,2$ milhões em empréstimos de habitação e $4,8$ milhões de dólares com empréstimos comerciais para obter o maior lucro possível. Assim, o lucro que o banco irá conseguir será de $0,99$ milhões de dólares."
   ]
  },
  {
   "cell_type": "markdown",
   "id": "a5e1aaa5",
   "metadata": {},
   "source": [
    "* [Ciência de Dados e Computação Científica com Julia](https://storopoli.io/Computacao-Cientifica/2_BenchmarkTools/)\n",
    "* [JuMP](https://jump.dev/JuMP.jl/stable/)\n",
    "* [Jaafar Ballout, 2021](https://www.supplychaindataanalytics.com/linear-programming-in-julia-with-glpk-and-jump/)"
   ]
  }
 ],
 "metadata": {
  "kernelspec": {
   "display_name": "Julia 1.7.2",
   "language": "julia",
   "name": "julia-1.7"
  },
  "language_info": {
   "file_extension": ".jl",
   "mimetype": "application/julia",
   "name": "julia",
   "version": "1.7.2"
  }
 },
 "nbformat": 4,
 "nbformat_minor": 5
}
