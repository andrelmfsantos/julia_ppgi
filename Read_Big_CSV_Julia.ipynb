{
 "cells": [
  {
   "cell_type": "code",
   "execution_count": 1,
   "id": "7b751bce",
   "metadata": {},
   "outputs": [
    {
     "name": "stderr",
     "output_type": "stream",
     "text": [
      "\u001b[32m\u001b[1m    Updating\u001b[22m\u001b[39m registry at `~/.julia/registries/General.toml`\n",
      "\u001b[32m\u001b[1m   Resolving\u001b[22m\u001b[39m package versions...\n",
      "\u001b[32m\u001b[1m  No Changes\u001b[22m\u001b[39m to `~/.julia/environments/v1.7/Project.toml`\n",
      "\u001b[32m\u001b[1m  No Changes\u001b[22m\u001b[39m to `~/.julia/environments/v1.7/Manifest.toml`\n"
     ]
    }
   ],
   "source": [
    "using Pkg\n",
    "Pkg.add(\"CSV\")"
   ]
  },
  {
   "cell_type": "code",
   "execution_count": 2,
   "id": "6b997aac",
   "metadata": {},
   "outputs": [
    {
     "name": "stderr",
     "output_type": "stream",
     "text": [
      "\u001b[32m\u001b[1m   Resolving\u001b[22m\u001b[39m package versions...\n",
      "\u001b[32m\u001b[1m  No Changes\u001b[22m\u001b[39m to `~/.julia/environments/v1.7/Project.toml`\n",
      "\u001b[32m\u001b[1m  No Changes\u001b[22m\u001b[39m to `~/.julia/environments/v1.7/Manifest.toml`\n"
     ]
    }
   ],
   "source": [
    "using Pkg\n",
    "Pkg.add(\"DataFrames\")"
   ]
  },
  {
   "cell_type": "code",
   "execution_count": 2,
   "id": "d67c6ccc",
   "metadata": {
    "scrolled": true
   },
   "outputs": [
    {
     "data": {
      "text/html": [
       "<div class=\"data-frame\"><p>11,589,194 rows × 108 columns (omitted printing of 103 columns)</p><table class=\"data-frame\"><thead><tr><th></th><th>NU_ANO_CENSO</th><th>CO_IES</th><th>TP_CATEGORIA_ADMINISTRATIVA</th><th>TP_ORGANIZACAO_ACADEMICA</th><th>CO_CURSO</th></tr><tr><th></th><th title=\"Int64\">Int64</th><th title=\"Int64\">Int64</th><th title=\"Int64\">Int64</th><th title=\"Int64\">Int64</th><th title=\"Int64\">Int64</th></tr></thead><tbody><tr><th>1</th><td>2017</td><td>1</td><td>1</td><td>1</td><td>1</td></tr><tr><th>2</th><td>2017</td><td>1</td><td>1</td><td>1</td><td>1</td></tr><tr><th>3</th><td>2017</td><td>1</td><td>1</td><td>1</td><td>1</td></tr><tr><th>4</th><td>2017</td><td>1</td><td>1</td><td>1</td><td>1</td></tr><tr><th>5</th><td>2017</td><td>1</td><td>1</td><td>1</td><td>1</td></tr><tr><th>6</th><td>2017</td><td>1</td><td>1</td><td>1</td><td>1</td></tr><tr><th>7</th><td>2017</td><td>1</td><td>1</td><td>1</td><td>1</td></tr><tr><th>8</th><td>2017</td><td>1</td><td>1</td><td>1</td><td>1</td></tr><tr><th>9</th><td>2017</td><td>1</td><td>1</td><td>1</td><td>1</td></tr><tr><th>10</th><td>2017</td><td>1</td><td>1</td><td>1</td><td>1</td></tr><tr><th>11</th><td>2017</td><td>1</td><td>1</td><td>1</td><td>1</td></tr><tr><th>12</th><td>2017</td><td>1</td><td>1</td><td>1</td><td>1</td></tr><tr><th>13</th><td>2017</td><td>1</td><td>1</td><td>1</td><td>1</td></tr><tr><th>14</th><td>2017</td><td>1</td><td>1</td><td>1</td><td>1</td></tr><tr><th>15</th><td>2017</td><td>1</td><td>1</td><td>1</td><td>1</td></tr><tr><th>16</th><td>2017</td><td>1</td><td>1</td><td>1</td><td>1</td></tr><tr><th>17</th><td>2017</td><td>1</td><td>1</td><td>1</td><td>1</td></tr><tr><th>18</th><td>2017</td><td>1</td><td>1</td><td>1</td><td>1</td></tr><tr><th>19</th><td>2017</td><td>1</td><td>1</td><td>1</td><td>1</td></tr><tr><th>20</th><td>2017</td><td>1</td><td>1</td><td>1</td><td>1</td></tr><tr><th>21</th><td>2017</td><td>1</td><td>1</td><td>1</td><td>1</td></tr><tr><th>22</th><td>2017</td><td>1</td><td>1</td><td>1</td><td>1</td></tr><tr><th>23</th><td>2017</td><td>1</td><td>1</td><td>1</td><td>1</td></tr><tr><th>24</th><td>2017</td><td>1</td><td>1</td><td>1</td><td>1</td></tr><tr><th>25</th><td>2017</td><td>1</td><td>1</td><td>1</td><td>1</td></tr><tr><th>26</th><td>2017</td><td>1</td><td>1</td><td>1</td><td>1</td></tr><tr><th>27</th><td>2017</td><td>1</td><td>1</td><td>1</td><td>1</td></tr><tr><th>28</th><td>2017</td><td>1</td><td>1</td><td>1</td><td>1</td></tr><tr><th>29</th><td>2017</td><td>1</td><td>1</td><td>1</td><td>1</td></tr><tr><th>30</th><td>2017</td><td>1</td><td>1</td><td>1</td><td>1</td></tr><tr><th>&vellip;</th><td>&vellip;</td><td>&vellip;</td><td>&vellip;</td><td>&vellip;</td><td>&vellip;</td></tr></tbody></table></div>"
      ],
      "text/latex": [
       "\\begin{tabular}{r|cccccc}\n",
       "\t& NU\\_ANO\\_CENSO & CO\\_IES & TP\\_CATEGORIA\\_ADMINISTRATIVA & TP\\_ORGANIZACAO\\_ACADEMICA & CO\\_CURSO & \\\\\n",
       "\t\\hline\n",
       "\t& Int64 & Int64 & Int64 & Int64 & Int64 & \\\\\n",
       "\t\\hline\n",
       "\t1 & 2017 & 1 & 1 & 1 & 1 & $\\dots$ \\\\\n",
       "\t2 & 2017 & 1 & 1 & 1 & 1 & $\\dots$ \\\\\n",
       "\t3 & 2017 & 1 & 1 & 1 & 1 & $\\dots$ \\\\\n",
       "\t4 & 2017 & 1 & 1 & 1 & 1 & $\\dots$ \\\\\n",
       "\t5 & 2017 & 1 & 1 & 1 & 1 & $\\dots$ \\\\\n",
       "\t6 & 2017 & 1 & 1 & 1 & 1 & $\\dots$ \\\\\n",
       "\t7 & 2017 & 1 & 1 & 1 & 1 & $\\dots$ \\\\\n",
       "\t8 & 2017 & 1 & 1 & 1 & 1 & $\\dots$ \\\\\n",
       "\t9 & 2017 & 1 & 1 & 1 & 1 & $\\dots$ \\\\\n",
       "\t10 & 2017 & 1 & 1 & 1 & 1 & $\\dots$ \\\\\n",
       "\t11 & 2017 & 1 & 1 & 1 & 1 & $\\dots$ \\\\\n",
       "\t12 & 2017 & 1 & 1 & 1 & 1 & $\\dots$ \\\\\n",
       "\t13 & 2017 & 1 & 1 & 1 & 1 & $\\dots$ \\\\\n",
       "\t14 & 2017 & 1 & 1 & 1 & 1 & $\\dots$ \\\\\n",
       "\t15 & 2017 & 1 & 1 & 1 & 1 & $\\dots$ \\\\\n",
       "\t16 & 2017 & 1 & 1 & 1 & 1 & $\\dots$ \\\\\n",
       "\t17 & 2017 & 1 & 1 & 1 & 1 & $\\dots$ \\\\\n",
       "\t18 & 2017 & 1 & 1 & 1 & 1 & $\\dots$ \\\\\n",
       "\t19 & 2017 & 1 & 1 & 1 & 1 & $\\dots$ \\\\\n",
       "\t20 & 2017 & 1 & 1 & 1 & 1 & $\\dots$ \\\\\n",
       "\t21 & 2017 & 1 & 1 & 1 & 1 & $\\dots$ \\\\\n",
       "\t22 & 2017 & 1 & 1 & 1 & 1 & $\\dots$ \\\\\n",
       "\t23 & 2017 & 1 & 1 & 1 & 1 & $\\dots$ \\\\\n",
       "\t24 & 2017 & 1 & 1 & 1 & 1 & $\\dots$ \\\\\n",
       "\t25 & 2017 & 1 & 1 & 1 & 1 & $\\dots$ \\\\\n",
       "\t26 & 2017 & 1 & 1 & 1 & 1 & $\\dots$ \\\\\n",
       "\t27 & 2017 & 1 & 1 & 1 & 1 & $\\dots$ \\\\\n",
       "\t28 & 2017 & 1 & 1 & 1 & 1 & $\\dots$ \\\\\n",
       "\t29 & 2017 & 1 & 1 & 1 & 1 & $\\dots$ \\\\\n",
       "\t30 & 2017 & 1 & 1 & 1 & 1 & $\\dots$ \\\\\n",
       "\t$\\dots$ & $\\dots$ & $\\dots$ & $\\dots$ & $\\dots$ & $\\dots$ &  \\\\\n",
       "\\end{tabular}\n"
      ],
      "text/plain": [
       "\u001b[1m11589194×108 DataFrame\u001b[0m\n",
       "\u001b[1m      Row \u001b[0m│\u001b[1m NU_ANO_CENSO \u001b[0m\u001b[1m CO_IES \u001b[0m\u001b[1m TP_CATEGORIA_ADMINISTRATIVA \u001b[0m\u001b[1m TP_ORGANIZACAO_\u001b[0m ⋯\n",
       "\u001b[1m          \u001b[0m│\u001b[90m Int64        \u001b[0m\u001b[90m Int64  \u001b[0m\u001b[90m Int64                       \u001b[0m\u001b[90m Int64          \u001b[0m ⋯\n",
       "──────────┼─────────────────────────────────────────────────────────────────────\n",
       "        1 │         2017       1                            1                  ⋯\n",
       "        2 │         2017       1                            1\n",
       "        3 │         2017       1                            1\n",
       "        4 │         2017       1                            1\n",
       "        5 │         2017       1                            1                  ⋯\n",
       "        6 │         2017       1                            1\n",
       "        7 │         2017       1                            1\n",
       "        8 │         2017       1                            1\n",
       "        9 │         2017       1                            1                  ⋯\n",
       "       10 │         2017       1                            1\n",
       "       11 │         2017       1                            1\n",
       "    ⋮     │      ⋮          ⋮                  ⋮                          ⋮    ⋱\n",
       " 11589185 │         2017   22939                            2\n",
       " 11589186 │         2017   22939                            2                  ⋯\n",
       " 11589187 │         2017   22939                            2\n",
       " 11589188 │         2017   22939                            2\n",
       " 11589189 │         2017   22939                            2\n",
       " 11589190 │         2017   22939                            2                  ⋯\n",
       " 11589191 │         2017   22939                            2\n",
       " 11589192 │         2017   22939                            2\n",
       " 11589193 │         2017   22939                            2\n",
       " 11589194 │         2017   22939                            2                  ⋯\n",
       "\u001b[36m                                           105 columns and 11589173 rows omitted\u001b[0m"
      ]
     },
     "execution_count": 2,
     "metadata": {},
     "output_type": "execute_result"
    }
   ],
   "source": [
    "using CSV\n",
    "using DataFrames\n",
    "\n",
    "df = CSV.read(\"/media/andre/Seagate Expansion Drive/REDI/microdados_censo_educacao_superior/microdados_educacao_superior_2017/Microdados_Educacao_Superior_2017/DADOS/DM_ALUNO.CSV\", DataFrame)"
   ]
  },
  {
   "cell_type": "code",
   "execution_count": 3,
   "id": "1e80eabb",
   "metadata": {},
   "outputs": [
    {
     "data": {
      "text/html": [
       "<div class=\"data-frame\"><p>4,000,000 rows × 108 columns (omitted printing of 103 columns)</p><table class=\"data-frame\"><thead><tr><th></th><th>NU_ANO_CENSO</th><th>CO_IES</th><th>TP_CATEGORIA_ADMINISTRATIVA</th><th>TP_ORGANIZACAO_ACADEMICA</th><th>CO_CURSO</th></tr><tr><th></th><th title=\"Int64\">Int64</th><th title=\"Int64\">Int64</th><th title=\"Int64\">Int64</th><th title=\"Int64\">Int64</th><th title=\"Int64\">Int64</th></tr></thead><tbody><tr><th>1</th><td>2017</td><td>1</td><td>1</td><td>1</td><td>1</td></tr><tr><th>2</th><td>2017</td><td>1</td><td>1</td><td>1</td><td>1</td></tr><tr><th>3</th><td>2017</td><td>1</td><td>1</td><td>1</td><td>1</td></tr><tr><th>4</th><td>2017</td><td>1</td><td>1</td><td>1</td><td>1</td></tr><tr><th>5</th><td>2017</td><td>1</td><td>1</td><td>1</td><td>1</td></tr><tr><th>6</th><td>2017</td><td>1</td><td>1</td><td>1</td><td>1</td></tr><tr><th>7</th><td>2017</td><td>1</td><td>1</td><td>1</td><td>1</td></tr><tr><th>8</th><td>2017</td><td>1</td><td>1</td><td>1</td><td>1</td></tr><tr><th>9</th><td>2017</td><td>1</td><td>1</td><td>1</td><td>1</td></tr><tr><th>10</th><td>2017</td><td>1</td><td>1</td><td>1</td><td>1</td></tr><tr><th>11</th><td>2017</td><td>1</td><td>1</td><td>1</td><td>1</td></tr><tr><th>12</th><td>2017</td><td>1</td><td>1</td><td>1</td><td>1</td></tr><tr><th>13</th><td>2017</td><td>1</td><td>1</td><td>1</td><td>1</td></tr><tr><th>14</th><td>2017</td><td>1</td><td>1</td><td>1</td><td>1</td></tr><tr><th>15</th><td>2017</td><td>1</td><td>1</td><td>1</td><td>1</td></tr><tr><th>16</th><td>2017</td><td>1</td><td>1</td><td>1</td><td>1</td></tr><tr><th>17</th><td>2017</td><td>1</td><td>1</td><td>1</td><td>1</td></tr><tr><th>18</th><td>2017</td><td>1</td><td>1</td><td>1</td><td>1</td></tr><tr><th>19</th><td>2017</td><td>1</td><td>1</td><td>1</td><td>1</td></tr><tr><th>20</th><td>2017</td><td>1</td><td>1</td><td>1</td><td>1</td></tr><tr><th>21</th><td>2017</td><td>1</td><td>1</td><td>1</td><td>1</td></tr><tr><th>22</th><td>2017</td><td>1</td><td>1</td><td>1</td><td>1</td></tr><tr><th>23</th><td>2017</td><td>1</td><td>1</td><td>1</td><td>1</td></tr><tr><th>24</th><td>2017</td><td>1</td><td>1</td><td>1</td><td>1</td></tr><tr><th>25</th><td>2017</td><td>1</td><td>1</td><td>1</td><td>1</td></tr><tr><th>26</th><td>2017</td><td>1</td><td>1</td><td>1</td><td>1</td></tr><tr><th>27</th><td>2017</td><td>1</td><td>1</td><td>1</td><td>1</td></tr><tr><th>28</th><td>2017</td><td>1</td><td>1</td><td>1</td><td>1</td></tr><tr><th>29</th><td>2017</td><td>1</td><td>1</td><td>1</td><td>1</td></tr><tr><th>30</th><td>2017</td><td>1</td><td>1</td><td>1</td><td>1</td></tr><tr><th>&vellip;</th><td>&vellip;</td><td>&vellip;</td><td>&vellip;</td><td>&vellip;</td><td>&vellip;</td></tr></tbody></table></div>"
      ],
      "text/latex": [
       "\\begin{tabular}{r|cccccc}\n",
       "\t& NU\\_ANO\\_CENSO & CO\\_IES & TP\\_CATEGORIA\\_ADMINISTRATIVA & TP\\_ORGANIZACAO\\_ACADEMICA & CO\\_CURSO & \\\\\n",
       "\t\\hline\n",
       "\t& Int64 & Int64 & Int64 & Int64 & Int64 & \\\\\n",
       "\t\\hline\n",
       "\t1 & 2017 & 1 & 1 & 1 & 1 & $\\dots$ \\\\\n",
       "\t2 & 2017 & 1 & 1 & 1 & 1 & $\\dots$ \\\\\n",
       "\t3 & 2017 & 1 & 1 & 1 & 1 & $\\dots$ \\\\\n",
       "\t4 & 2017 & 1 & 1 & 1 & 1 & $\\dots$ \\\\\n",
       "\t5 & 2017 & 1 & 1 & 1 & 1 & $\\dots$ \\\\\n",
       "\t6 & 2017 & 1 & 1 & 1 & 1 & $\\dots$ \\\\\n",
       "\t7 & 2017 & 1 & 1 & 1 & 1 & $\\dots$ \\\\\n",
       "\t8 & 2017 & 1 & 1 & 1 & 1 & $\\dots$ \\\\\n",
       "\t9 & 2017 & 1 & 1 & 1 & 1 & $\\dots$ \\\\\n",
       "\t10 & 2017 & 1 & 1 & 1 & 1 & $\\dots$ \\\\\n",
       "\t11 & 2017 & 1 & 1 & 1 & 1 & $\\dots$ \\\\\n",
       "\t12 & 2017 & 1 & 1 & 1 & 1 & $\\dots$ \\\\\n",
       "\t13 & 2017 & 1 & 1 & 1 & 1 & $\\dots$ \\\\\n",
       "\t14 & 2017 & 1 & 1 & 1 & 1 & $\\dots$ \\\\\n",
       "\t15 & 2017 & 1 & 1 & 1 & 1 & $\\dots$ \\\\\n",
       "\t16 & 2017 & 1 & 1 & 1 & 1 & $\\dots$ \\\\\n",
       "\t17 & 2017 & 1 & 1 & 1 & 1 & $\\dots$ \\\\\n",
       "\t18 & 2017 & 1 & 1 & 1 & 1 & $\\dots$ \\\\\n",
       "\t19 & 2017 & 1 & 1 & 1 & 1 & $\\dots$ \\\\\n",
       "\t20 & 2017 & 1 & 1 & 1 & 1 & $\\dots$ \\\\\n",
       "\t21 & 2017 & 1 & 1 & 1 & 1 & $\\dots$ \\\\\n",
       "\t22 & 2017 & 1 & 1 & 1 & 1 & $\\dots$ \\\\\n",
       "\t23 & 2017 & 1 & 1 & 1 & 1 & $\\dots$ \\\\\n",
       "\t24 & 2017 & 1 & 1 & 1 & 1 & $\\dots$ \\\\\n",
       "\t25 & 2017 & 1 & 1 & 1 & 1 & $\\dots$ \\\\\n",
       "\t26 & 2017 & 1 & 1 & 1 & 1 & $\\dots$ \\\\\n",
       "\t27 & 2017 & 1 & 1 & 1 & 1 & $\\dots$ \\\\\n",
       "\t28 & 2017 & 1 & 1 & 1 & 1 & $\\dots$ \\\\\n",
       "\t29 & 2017 & 1 & 1 & 1 & 1 & $\\dots$ \\\\\n",
       "\t30 & 2017 & 1 & 1 & 1 & 1 & $\\dots$ \\\\\n",
       "\t$\\dots$ & $\\dots$ & $\\dots$ & $\\dots$ & $\\dots$ & $\\dots$ &  \\\\\n",
       "\\end{tabular}\n"
      ],
      "text/plain": [
       "\u001b[1m4000000×108 DataFrame\u001b[0m\n",
       "\u001b[1m     Row \u001b[0m│\u001b[1m NU_ANO_CENSO \u001b[0m\u001b[1m CO_IES \u001b[0m\u001b[1m TP_CATEGORIA_ADMINISTRATIVA \u001b[0m\u001b[1m TP_ORGANIZACAO_A\u001b[0m ⋯\n",
       "\u001b[1m         \u001b[0m│\u001b[90m Int64        \u001b[0m\u001b[90m Int64  \u001b[0m\u001b[90m Int64                       \u001b[0m\u001b[90m Int64           \u001b[0m ⋯\n",
       "─────────┼──────────────────────────────────────────────────────────────────────\n",
       "       1 │         2017       1                            1                   ⋯\n",
       "       2 │         2017       1                            1\n",
       "       3 │         2017       1                            1\n",
       "       4 │         2017       1                            1\n",
       "       5 │         2017       1                            1                   ⋯\n",
       "       6 │         2017       1                            1\n",
       "       7 │         2017       1                            1\n",
       "       8 │         2017       1                            1\n",
       "       9 │         2017       1                            1                   ⋯\n",
       "      10 │         2017       1                            1\n",
       "      11 │         2017       1                            1\n",
       "    ⋮    │      ⋮          ⋮                  ⋮                          ⋮     ⋱\n",
       " 3999991 │         2017     417                            4\n",
       " 3999992 │         2017     417                            4                   ⋯\n",
       " 3999993 │         2017     417                            4\n",
       " 3999994 │         2017     417                            4\n",
       " 3999995 │         2017     417                            4\n",
       " 3999996 │         2017     417                            4                   ⋯\n",
       " 3999997 │         2017     417                            4\n",
       " 3999998 │         2017     417                            4\n",
       " 3999999 │         2017     417                            4\n",
       " 4000000 │         2017     417                            4                   ⋯\n",
       "\u001b[36m                                            105 columns and 3999979 rows omitted\u001b[0m"
      ]
     },
     "execution_count": 3,
     "metadata": {},
     "output_type": "execute_result"
    }
   ],
   "source": [
    "df1 = first(df, 4000000)\n",
    "df1"
   ]
  },
  {
   "cell_type": "code",
   "execution_count": 6,
   "id": "58b1873c",
   "metadata": {
    "scrolled": true
   },
   "outputs": [
    {
     "data": {
      "text/html": [
       "<div class=\"data-frame\"><p>4,000,000 rows × 105 columns (omitted printing of 100 columns)</p><table class=\"data-frame\"><thead><tr><th></th><th>NU_ANO_CENSO</th><th>CO_IES</th><th>TP_CATEGORIA_ADMINISTRATIVA</th><th>TP_ORGANIZACAO_ACADEMICA</th><th>CO_CURSO</th></tr><tr><th></th><th title=\"Int64\">Int64</th><th title=\"Int64\">Int64</th><th title=\"Int64\">Int64</th><th title=\"Int64\">Int64</th><th title=\"Int64\">Int64</th></tr></thead><tbody><tr><th>1</th><td>2019</td><td>387</td><td>5</td><td>1</td><td>123852</td></tr><tr><th>2</th><td>2019</td><td>387</td><td>5</td><td>1</td><td>123852</td></tr><tr><th>3</th><td>2019</td><td>387</td><td>5</td><td>1</td><td>123852</td></tr><tr><th>4</th><td>2019</td><td>387</td><td>5</td><td>1</td><td>123852</td></tr><tr><th>5</th><td>2019</td><td>387</td><td>5</td><td>1</td><td>123852</td></tr><tr><th>6</th><td>2019</td><td>387</td><td>5</td><td>1</td><td>123852</td></tr><tr><th>7</th><td>2019</td><td>387</td><td>5</td><td>1</td><td>123852</td></tr><tr><th>8</th><td>2019</td><td>387</td><td>5</td><td>1</td><td>123852</td></tr><tr><th>9</th><td>2019</td><td>387</td><td>5</td><td>1</td><td>123852</td></tr><tr><th>10</th><td>2019</td><td>387</td><td>5</td><td>1</td><td>123852</td></tr><tr><th>11</th><td>2019</td><td>387</td><td>5</td><td>1</td><td>123852</td></tr><tr><th>12</th><td>2019</td><td>387</td><td>5</td><td>1</td><td>123852</td></tr><tr><th>13</th><td>2019</td><td>387</td><td>5</td><td>1</td><td>123852</td></tr><tr><th>14</th><td>2019</td><td>387</td><td>5</td><td>1</td><td>123852</td></tr><tr><th>15</th><td>2019</td><td>387</td><td>5</td><td>1</td><td>123852</td></tr><tr><th>16</th><td>2019</td><td>387</td><td>5</td><td>1</td><td>123852</td></tr><tr><th>17</th><td>2019</td><td>387</td><td>5</td><td>1</td><td>123852</td></tr><tr><th>18</th><td>2019</td><td>387</td><td>5</td><td>1</td><td>123852</td></tr><tr><th>19</th><td>2019</td><td>387</td><td>5</td><td>1</td><td>123852</td></tr><tr><th>20</th><td>2019</td><td>387</td><td>5</td><td>1</td><td>123852</td></tr><tr><th>21</th><td>2019</td><td>387</td><td>5</td><td>1</td><td>123852</td></tr><tr><th>22</th><td>2019</td><td>387</td><td>5</td><td>1</td><td>123852</td></tr><tr><th>23</th><td>2019</td><td>387</td><td>5</td><td>1</td><td>123852</td></tr><tr><th>24</th><td>2019</td><td>387</td><td>5</td><td>1</td><td>123852</td></tr><tr><th>25</th><td>2019</td><td>387</td><td>5</td><td>1</td><td>123852</td></tr><tr><th>26</th><td>2019</td><td>387</td><td>5</td><td>1</td><td>123852</td></tr><tr><th>27</th><td>2019</td><td>387</td><td>5</td><td>1</td><td>123852</td></tr><tr><th>28</th><td>2019</td><td>387</td><td>5</td><td>1</td><td>123852</td></tr><tr><th>29</th><td>2019</td><td>387</td><td>5</td><td>1</td><td>123852</td></tr><tr><th>30</th><td>2019</td><td>387</td><td>5</td><td>1</td><td>123852</td></tr><tr><th>&vellip;</th><td>&vellip;</td><td>&vellip;</td><td>&vellip;</td><td>&vellip;</td><td>&vellip;</td></tr></tbody></table></div>"
      ],
      "text/latex": [
       "\\begin{tabular}{r|cccccc}\n",
       "\t& NU\\_ANO\\_CENSO & CO\\_IES & TP\\_CATEGORIA\\_ADMINISTRATIVA & TP\\_ORGANIZACAO\\_ACADEMICA & CO\\_CURSO & \\\\\n",
       "\t\\hline\n",
       "\t& Int64 & Int64 & Int64 & Int64 & Int64 & \\\\\n",
       "\t\\hline\n",
       "\t1 & 2019 & 387 & 5 & 1 & 123852 & $\\dots$ \\\\\n",
       "\t2 & 2019 & 387 & 5 & 1 & 123852 & $\\dots$ \\\\\n",
       "\t3 & 2019 & 387 & 5 & 1 & 123852 & $\\dots$ \\\\\n",
       "\t4 & 2019 & 387 & 5 & 1 & 123852 & $\\dots$ \\\\\n",
       "\t5 & 2019 & 387 & 5 & 1 & 123852 & $\\dots$ \\\\\n",
       "\t6 & 2019 & 387 & 5 & 1 & 123852 & $\\dots$ \\\\\n",
       "\t7 & 2019 & 387 & 5 & 1 & 123852 & $\\dots$ \\\\\n",
       "\t8 & 2019 & 387 & 5 & 1 & 123852 & $\\dots$ \\\\\n",
       "\t9 & 2019 & 387 & 5 & 1 & 123852 & $\\dots$ \\\\\n",
       "\t10 & 2019 & 387 & 5 & 1 & 123852 & $\\dots$ \\\\\n",
       "\t11 & 2019 & 387 & 5 & 1 & 123852 & $\\dots$ \\\\\n",
       "\t12 & 2019 & 387 & 5 & 1 & 123852 & $\\dots$ \\\\\n",
       "\t13 & 2019 & 387 & 5 & 1 & 123852 & $\\dots$ \\\\\n",
       "\t14 & 2019 & 387 & 5 & 1 & 123852 & $\\dots$ \\\\\n",
       "\t15 & 2019 & 387 & 5 & 1 & 123852 & $\\dots$ \\\\\n",
       "\t16 & 2019 & 387 & 5 & 1 & 123852 & $\\dots$ \\\\\n",
       "\t17 & 2019 & 387 & 5 & 1 & 123852 & $\\dots$ \\\\\n",
       "\t18 & 2019 & 387 & 5 & 1 & 123852 & $\\dots$ \\\\\n",
       "\t19 & 2019 & 387 & 5 & 1 & 123852 & $\\dots$ \\\\\n",
       "\t20 & 2019 & 387 & 5 & 1 & 123852 & $\\dots$ \\\\\n",
       "\t21 & 2019 & 387 & 5 & 1 & 123852 & $\\dots$ \\\\\n",
       "\t22 & 2019 & 387 & 5 & 1 & 123852 & $\\dots$ \\\\\n",
       "\t23 & 2019 & 387 & 5 & 1 & 123852 & $\\dots$ \\\\\n",
       "\t24 & 2019 & 387 & 5 & 1 & 123852 & $\\dots$ \\\\\n",
       "\t25 & 2019 & 387 & 5 & 1 & 123852 & $\\dots$ \\\\\n",
       "\t26 & 2019 & 387 & 5 & 1 & 123852 & $\\dots$ \\\\\n",
       "\t27 & 2019 & 387 & 5 & 1 & 123852 & $\\dots$ \\\\\n",
       "\t28 & 2019 & 387 & 5 & 1 & 123852 & $\\dots$ \\\\\n",
       "\t29 & 2019 & 387 & 5 & 1 & 123852 & $\\dots$ \\\\\n",
       "\t30 & 2019 & 387 & 5 & 1 & 123852 & $\\dots$ \\\\\n",
       "\t$\\dots$ & $\\dots$ & $\\dots$ & $\\dots$ & $\\dots$ & $\\dots$ &  \\\\\n",
       "\\end{tabular}\n"
      ],
      "text/plain": [
       "\u001b[1m4000000×105 DataFrame\u001b[0m\n",
       "\u001b[1m     Row \u001b[0m│\u001b[1m NU_ANO_CENSO \u001b[0m\u001b[1m CO_IES \u001b[0m\u001b[1m TP_CATEGORIA_ADMINISTRATIVA \u001b[0m\u001b[1m TP_ORGANIZACAO_A\u001b[0m ⋯\n",
       "\u001b[1m         \u001b[0m│\u001b[90m Int64        \u001b[0m\u001b[90m Int64  \u001b[0m\u001b[90m Int64                       \u001b[0m\u001b[90m Int64           \u001b[0m ⋯\n",
       "─────────┼──────────────────────────────────────────────────────────────────────\n",
       "       1 │         2019     387                            5                   ⋯\n",
       "       2 │         2019     387                            5\n",
       "       3 │         2019     387                            5\n",
       "       4 │         2019     387                            5\n",
       "       5 │         2019     387                            5                   ⋯\n",
       "       6 │         2019     387                            5\n",
       "       7 │         2019     387                            5\n",
       "       8 │         2019     387                            5\n",
       "       9 │         2019     387                            5                   ⋯\n",
       "      10 │         2019     387                            5\n",
       "      11 │         2019     387                            5\n",
       "    ⋮    │      ⋮          ⋮                  ⋮                          ⋮     ⋱\n",
       " 3999991 │         2019    1270                            4\n",
       " 3999992 │         2019    1270                            4                   ⋯\n",
       " 3999993 │         2019    1270                            4\n",
       " 3999994 │         2019    1270                            4\n",
       " 3999995 │         2019    1270                            4\n",
       " 3999996 │         2019    1270                            4                   ⋯\n",
       " 3999997 │         2019    1270                            4\n",
       " 3999998 │         2019    1270                            4\n",
       " 3999999 │         2019    1270                            4\n",
       " 4000000 │         2019    1270                            4                   ⋯\n",
       "\u001b[36m                                            102 columns and 3999979 rows omitted\u001b[0m"
      ]
     },
     "execution_count": 6,
     "metadata": {},
     "output_type": "execute_result"
    }
   ],
   "source": [
    "df2 = df[4000001:8000000, :]\n",
    "df2"
   ]
  },
  {
   "cell_type": "code",
   "execution_count": 8,
   "id": "37d86620",
   "metadata": {},
   "outputs": [
    {
     "data": {
      "text/html": [
       "<div class=\"data-frame\"><p>4,350,832 rows × 105 columns (omitted printing of 100 columns)</p><table class=\"data-frame\"><thead><tr><th></th><th>NU_ANO_CENSO</th><th>CO_IES</th><th>TP_CATEGORIA_ADMINISTRATIVA</th><th>TP_ORGANIZACAO_ACADEMICA</th><th>CO_CURSO</th></tr><tr><th></th><th title=\"Int64\">Int64</th><th title=\"Int64\">Int64</th><th title=\"Int64\">Int64</th><th title=\"Int64\">Int64</th><th title=\"Int64\">Int64</th></tr></thead><tbody><tr><th>1</th><td>2019</td><td>1270</td><td>4</td><td>2</td><td>1170122</td></tr><tr><th>2</th><td>2019</td><td>1270</td><td>4</td><td>2</td><td>1170122</td></tr><tr><th>3</th><td>2019</td><td>1270</td><td>4</td><td>2</td><td>1170122</td></tr><tr><th>4</th><td>2019</td><td>1270</td><td>4</td><td>2</td><td>1170122</td></tr><tr><th>5</th><td>2019</td><td>1270</td><td>4</td><td>2</td><td>1170122</td></tr><tr><th>6</th><td>2019</td><td>1270</td><td>4</td><td>2</td><td>1170122</td></tr><tr><th>7</th><td>2019</td><td>1270</td><td>4</td><td>2</td><td>1170122</td></tr><tr><th>8</th><td>2019</td><td>1270</td><td>4</td><td>2</td><td>1170122</td></tr><tr><th>9</th><td>2019</td><td>1270</td><td>4</td><td>2</td><td>1170122</td></tr><tr><th>10</th><td>2019</td><td>1270</td><td>4</td><td>2</td><td>1170122</td></tr><tr><th>11</th><td>2019</td><td>1270</td><td>4</td><td>2</td><td>1170122</td></tr><tr><th>12</th><td>2019</td><td>1270</td><td>4</td><td>2</td><td>1170122</td></tr><tr><th>13</th><td>2019</td><td>1270</td><td>4</td><td>2</td><td>1170122</td></tr><tr><th>14</th><td>2019</td><td>1270</td><td>4</td><td>2</td><td>1170122</td></tr><tr><th>15</th><td>2019</td><td>1270</td><td>4</td><td>2</td><td>1170122</td></tr><tr><th>16</th><td>2019</td><td>1270</td><td>4</td><td>2</td><td>1170122</td></tr><tr><th>17</th><td>2019</td><td>1270</td><td>4</td><td>2</td><td>1170122</td></tr><tr><th>18</th><td>2019</td><td>1270</td><td>4</td><td>2</td><td>1170122</td></tr><tr><th>19</th><td>2019</td><td>1270</td><td>4</td><td>2</td><td>1170122</td></tr><tr><th>20</th><td>2019</td><td>1270</td><td>4</td><td>2</td><td>1170122</td></tr><tr><th>21</th><td>2019</td><td>1270</td><td>4</td><td>2</td><td>1170122</td></tr><tr><th>22</th><td>2019</td><td>1270</td><td>4</td><td>2</td><td>1170122</td></tr><tr><th>23</th><td>2019</td><td>1270</td><td>4</td><td>2</td><td>1170122</td></tr><tr><th>24</th><td>2019</td><td>1270</td><td>4</td><td>2</td><td>1170122</td></tr><tr><th>25</th><td>2019</td><td>1270</td><td>4</td><td>2</td><td>1170122</td></tr><tr><th>26</th><td>2019</td><td>1270</td><td>4</td><td>2</td><td>1170122</td></tr><tr><th>27</th><td>2019</td><td>1270</td><td>4</td><td>2</td><td>1170122</td></tr><tr><th>28</th><td>2019</td><td>1270</td><td>4</td><td>2</td><td>1170122</td></tr><tr><th>29</th><td>2019</td><td>1270</td><td>4</td><td>2</td><td>1170122</td></tr><tr><th>30</th><td>2019</td><td>1270</td><td>4</td><td>2</td><td>1170122</td></tr><tr><th>&vellip;</th><td>&vellip;</td><td>&vellip;</td><td>&vellip;</td><td>&vellip;</td><td>&vellip;</td></tr></tbody></table></div>"
      ],
      "text/latex": [
       "\\begin{tabular}{r|cccccc}\n",
       "\t& NU\\_ANO\\_CENSO & CO\\_IES & TP\\_CATEGORIA\\_ADMINISTRATIVA & TP\\_ORGANIZACAO\\_ACADEMICA & CO\\_CURSO & \\\\\n",
       "\t\\hline\n",
       "\t& Int64 & Int64 & Int64 & Int64 & Int64 & \\\\\n",
       "\t\\hline\n",
       "\t1 & 2019 & 1270 & 4 & 2 & 1170122 & $\\dots$ \\\\\n",
       "\t2 & 2019 & 1270 & 4 & 2 & 1170122 & $\\dots$ \\\\\n",
       "\t3 & 2019 & 1270 & 4 & 2 & 1170122 & $\\dots$ \\\\\n",
       "\t4 & 2019 & 1270 & 4 & 2 & 1170122 & $\\dots$ \\\\\n",
       "\t5 & 2019 & 1270 & 4 & 2 & 1170122 & $\\dots$ \\\\\n",
       "\t6 & 2019 & 1270 & 4 & 2 & 1170122 & $\\dots$ \\\\\n",
       "\t7 & 2019 & 1270 & 4 & 2 & 1170122 & $\\dots$ \\\\\n",
       "\t8 & 2019 & 1270 & 4 & 2 & 1170122 & $\\dots$ \\\\\n",
       "\t9 & 2019 & 1270 & 4 & 2 & 1170122 & $\\dots$ \\\\\n",
       "\t10 & 2019 & 1270 & 4 & 2 & 1170122 & $\\dots$ \\\\\n",
       "\t11 & 2019 & 1270 & 4 & 2 & 1170122 & $\\dots$ \\\\\n",
       "\t12 & 2019 & 1270 & 4 & 2 & 1170122 & $\\dots$ \\\\\n",
       "\t13 & 2019 & 1270 & 4 & 2 & 1170122 & $\\dots$ \\\\\n",
       "\t14 & 2019 & 1270 & 4 & 2 & 1170122 & $\\dots$ \\\\\n",
       "\t15 & 2019 & 1270 & 4 & 2 & 1170122 & $\\dots$ \\\\\n",
       "\t16 & 2019 & 1270 & 4 & 2 & 1170122 & $\\dots$ \\\\\n",
       "\t17 & 2019 & 1270 & 4 & 2 & 1170122 & $\\dots$ \\\\\n",
       "\t18 & 2019 & 1270 & 4 & 2 & 1170122 & $\\dots$ \\\\\n",
       "\t19 & 2019 & 1270 & 4 & 2 & 1170122 & $\\dots$ \\\\\n",
       "\t20 & 2019 & 1270 & 4 & 2 & 1170122 & $\\dots$ \\\\\n",
       "\t21 & 2019 & 1270 & 4 & 2 & 1170122 & $\\dots$ \\\\\n",
       "\t22 & 2019 & 1270 & 4 & 2 & 1170122 & $\\dots$ \\\\\n",
       "\t23 & 2019 & 1270 & 4 & 2 & 1170122 & $\\dots$ \\\\\n",
       "\t24 & 2019 & 1270 & 4 & 2 & 1170122 & $\\dots$ \\\\\n",
       "\t25 & 2019 & 1270 & 4 & 2 & 1170122 & $\\dots$ \\\\\n",
       "\t26 & 2019 & 1270 & 4 & 2 & 1170122 & $\\dots$ \\\\\n",
       "\t27 & 2019 & 1270 & 4 & 2 & 1170122 & $\\dots$ \\\\\n",
       "\t28 & 2019 & 1270 & 4 & 2 & 1170122 & $\\dots$ \\\\\n",
       "\t29 & 2019 & 1270 & 4 & 2 & 1170122 & $\\dots$ \\\\\n",
       "\t30 & 2019 & 1270 & 4 & 2 & 1170122 & $\\dots$ \\\\\n",
       "\t$\\dots$ & $\\dots$ & $\\dots$ & $\\dots$ & $\\dots$ & $\\dots$ &  \\\\\n",
       "\\end{tabular}\n"
      ],
      "text/plain": [
       "\u001b[1m4350832×105 DataFrame\u001b[0m\n",
       "\u001b[1m     Row \u001b[0m│\u001b[1m NU_ANO_CENSO \u001b[0m\u001b[1m CO_IES \u001b[0m\u001b[1m TP_CATEGORIA_ADMINISTRATIVA \u001b[0m\u001b[1m TP_ORGANIZACAO_A\u001b[0m ⋯\n",
       "\u001b[1m         \u001b[0m│\u001b[90m Int64        \u001b[0m\u001b[90m Int64  \u001b[0m\u001b[90m Int64                       \u001b[0m\u001b[90m Int64           \u001b[0m ⋯\n",
       "─────────┼──────────────────────────────────────────────────────────────────────\n",
       "       1 │         2019    1270                            4                   ⋯\n",
       "       2 │         2019    1270                            4\n",
       "       3 │         2019    1270                            4\n",
       "       4 │         2019    1270                            4\n",
       "       5 │         2019    1270                            4                   ⋯\n",
       "       6 │         2019    1270                            4\n",
       "       7 │         2019    1270                            4\n",
       "       8 │         2019    1270                            4\n",
       "       9 │         2019    1270                            4                   ⋯\n",
       "      10 │         2019    1270                            4\n",
       "      11 │         2019    1270                            4\n",
       "    ⋮    │      ⋮          ⋮                  ⋮                          ⋮     ⋱\n",
       " 4350823 │         2019   24672                            2\n",
       " 4350824 │         2019   24672                            2                   ⋯\n",
       " 4350825 │         2019   24672                            2\n",
       " 4350826 │         2019   24672                            2\n",
       " 4350827 │         2019   24672                            2\n",
       " 4350828 │         2019   24672                            2                   ⋯\n",
       " 4350829 │         2019   24672                            2\n",
       " 4350830 │         2019   24672                            2\n",
       " 4350831 │         2019   24672                            2\n",
       " 4350832 │         2019   24672                            2                   ⋯\n",
       "\u001b[36m                                            102 columns and 4350811 rows omitted\u001b[0m"
      ]
     },
     "execution_count": 8,
     "metadata": {},
     "output_type": "execute_result"
    }
   ],
   "source": [
    "df3 = df[8000001:end, :]\n",
    "df3"
   ]
  },
  {
   "cell_type": "code",
   "execution_count": 4,
   "id": "56c3d8be",
   "metadata": {},
   "outputs": [
    {
     "data": {
      "text/plain": [
       "\"/media/andre/Seagate Expansion Drive/REDI/sup_aluno_2017p1.csv\""
      ]
     },
     "execution_count": 4,
     "metadata": {},
     "output_type": "execute_result"
    }
   ],
   "source": [
    "# modifying the content of myfile.csv using write method\n",
    "CSV.write(\"/media/andre/Seagate Expansion Drive/REDI/sup_aluno_2017p1.csv\", df1)"
   ]
  },
  {
   "cell_type": "code",
   "execution_count": null,
   "id": "2499861b",
   "metadata": {},
   "outputs": [],
   "source": []
  }
 ],
 "metadata": {
  "kernelspec": {
   "display_name": "Julia 1.7.2",
   "language": "julia",
   "name": "julia-1.7"
  },
  "language_info": {
   "file_extension": ".jl",
   "mimetype": "application/julia",
   "name": "julia",
   "version": "1.7.2"
  }
 },
 "nbformat": 4,
 "nbformat_minor": 5
}
