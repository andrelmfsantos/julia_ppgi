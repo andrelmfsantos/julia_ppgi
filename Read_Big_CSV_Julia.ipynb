{
 "cells": [
  {
   "cell_type": "code",
   "execution_count": 1,
   "id": "af889632",
   "metadata": {},
   "outputs": [
    {
     "name": "stderr",
     "output_type": "stream",
     "text": [
      "\u001b[32m\u001b[1m    Updating\u001b[22m\u001b[39m registry at `~/.julia/registries/General.toml`\n",
      "\u001b[32m\u001b[1m   Resolving\u001b[22m\u001b[39m package versions...\n",
      "\u001b[32m\u001b[1m  No Changes\u001b[22m\u001b[39m to `~/.julia/environments/v1.7/Project.toml`\n",
      "\u001b[32m\u001b[1m  No Changes\u001b[22m\u001b[39m to `~/.julia/environments/v1.7/Manifest.toml`\n"
     ]
    }
   ],
   "source": [
    "using Pkg\n",
    "Pkg.add(\"CSV\")"
   ]
  },
  {
   "cell_type": "code",
   "execution_count": 2,
   "id": "853eddd6",
   "metadata": {},
   "outputs": [
    {
     "name": "stderr",
     "output_type": "stream",
     "text": [
      "\u001b[32m\u001b[1m   Resolving\u001b[22m\u001b[39m package versions...\n",
      "\u001b[32m\u001b[1m  No Changes\u001b[22m\u001b[39m to `~/.julia/environments/v1.7/Project.toml`\n",
      "\u001b[32m\u001b[1m  No Changes\u001b[22m\u001b[39m to `~/.julia/environments/v1.7/Manifest.toml`\n"
     ]
    }
   ],
   "source": [
    "using Pkg\n",
    "Pkg.add(\"DataFrames\")"
   ]
  },
  {
   "cell_type": "code",
   "execution_count": 3,
   "id": "4a8756f4",
   "metadata": {},
   "outputs": [
    {
     "data": {
      "text/html": [
       "<div class=\"data-frame\"><p>12,350,832 rows × 105 columns (omitted printing of 100 columns)</p><table class=\"data-frame\"><thead><tr><th></th><th>NU_ANO_CENSO</th><th>CO_IES</th><th>TP_CATEGORIA_ADMINISTRATIVA</th><th>TP_ORGANIZACAO_ACADEMICA</th><th>CO_CURSO</th></tr><tr><th></th><th title=\"Int64\">Int64</th><th title=\"Int64\">Int64</th><th title=\"Int64\">Int64</th><th title=\"Int64\">Int64</th><th title=\"Int64\">Int64</th></tr></thead><tbody><tr><th>1</th><td>2019</td><td>1</td><td>1</td><td>1</td><td>1</td></tr><tr><th>2</th><td>2019</td><td>1</td><td>1</td><td>1</td><td>1</td></tr><tr><th>3</th><td>2019</td><td>1</td><td>1</td><td>1</td><td>1</td></tr><tr><th>4</th><td>2019</td><td>1</td><td>1</td><td>1</td><td>1</td></tr><tr><th>5</th><td>2019</td><td>1</td><td>1</td><td>1</td><td>1</td></tr><tr><th>6</th><td>2019</td><td>1</td><td>1</td><td>1</td><td>1</td></tr><tr><th>7</th><td>2019</td><td>1</td><td>1</td><td>1</td><td>1</td></tr><tr><th>8</th><td>2019</td><td>1</td><td>1</td><td>1</td><td>1</td></tr><tr><th>9</th><td>2019</td><td>1</td><td>1</td><td>1</td><td>1</td></tr><tr><th>10</th><td>2019</td><td>1</td><td>1</td><td>1</td><td>1</td></tr><tr><th>11</th><td>2019</td><td>1</td><td>1</td><td>1</td><td>1</td></tr><tr><th>12</th><td>2019</td><td>1</td><td>1</td><td>1</td><td>1</td></tr><tr><th>13</th><td>2019</td><td>1</td><td>1</td><td>1</td><td>1</td></tr><tr><th>14</th><td>2019</td><td>1</td><td>1</td><td>1</td><td>1</td></tr><tr><th>15</th><td>2019</td><td>1</td><td>1</td><td>1</td><td>1</td></tr><tr><th>16</th><td>2019</td><td>1</td><td>1</td><td>1</td><td>1</td></tr><tr><th>17</th><td>2019</td><td>1</td><td>1</td><td>1</td><td>1</td></tr><tr><th>18</th><td>2019</td><td>1</td><td>1</td><td>1</td><td>1</td></tr><tr><th>19</th><td>2019</td><td>1</td><td>1</td><td>1</td><td>1</td></tr><tr><th>20</th><td>2019</td><td>1</td><td>1</td><td>1</td><td>1</td></tr><tr><th>21</th><td>2019</td><td>1</td><td>1</td><td>1</td><td>1</td></tr><tr><th>22</th><td>2019</td><td>1</td><td>1</td><td>1</td><td>1</td></tr><tr><th>23</th><td>2019</td><td>1</td><td>1</td><td>1</td><td>1</td></tr><tr><th>24</th><td>2019</td><td>1</td><td>1</td><td>1</td><td>1</td></tr><tr><th>25</th><td>2019</td><td>1</td><td>1</td><td>1</td><td>1</td></tr><tr><th>26</th><td>2019</td><td>1</td><td>1</td><td>1</td><td>1</td></tr><tr><th>27</th><td>2019</td><td>1</td><td>1</td><td>1</td><td>1</td></tr><tr><th>28</th><td>2019</td><td>1</td><td>1</td><td>1</td><td>1</td></tr><tr><th>29</th><td>2019</td><td>1</td><td>1</td><td>1</td><td>1</td></tr><tr><th>30</th><td>2019</td><td>1</td><td>1</td><td>1</td><td>1</td></tr><tr><th>&vellip;</th><td>&vellip;</td><td>&vellip;</td><td>&vellip;</td><td>&vellip;</td><td>&vellip;</td></tr></tbody></table></div>"
      ],
      "text/latex": [
       "\\begin{tabular}{r|cccccc}\n",
       "\t& NU\\_ANO\\_CENSO & CO\\_IES & TP\\_CATEGORIA\\_ADMINISTRATIVA & TP\\_ORGANIZACAO\\_ACADEMICA & CO\\_CURSO & \\\\\n",
       "\t\\hline\n",
       "\t& Int64 & Int64 & Int64 & Int64 & Int64 & \\\\\n",
       "\t\\hline\n",
       "\t1 & 2019 & 1 & 1 & 1 & 1 & $\\dots$ \\\\\n",
       "\t2 & 2019 & 1 & 1 & 1 & 1 & $\\dots$ \\\\\n",
       "\t3 & 2019 & 1 & 1 & 1 & 1 & $\\dots$ \\\\\n",
       "\t4 & 2019 & 1 & 1 & 1 & 1 & $\\dots$ \\\\\n",
       "\t5 & 2019 & 1 & 1 & 1 & 1 & $\\dots$ \\\\\n",
       "\t6 & 2019 & 1 & 1 & 1 & 1 & $\\dots$ \\\\\n",
       "\t7 & 2019 & 1 & 1 & 1 & 1 & $\\dots$ \\\\\n",
       "\t8 & 2019 & 1 & 1 & 1 & 1 & $\\dots$ \\\\\n",
       "\t9 & 2019 & 1 & 1 & 1 & 1 & $\\dots$ \\\\\n",
       "\t10 & 2019 & 1 & 1 & 1 & 1 & $\\dots$ \\\\\n",
       "\t11 & 2019 & 1 & 1 & 1 & 1 & $\\dots$ \\\\\n",
       "\t12 & 2019 & 1 & 1 & 1 & 1 & $\\dots$ \\\\\n",
       "\t13 & 2019 & 1 & 1 & 1 & 1 & $\\dots$ \\\\\n",
       "\t14 & 2019 & 1 & 1 & 1 & 1 & $\\dots$ \\\\\n",
       "\t15 & 2019 & 1 & 1 & 1 & 1 & $\\dots$ \\\\\n",
       "\t16 & 2019 & 1 & 1 & 1 & 1 & $\\dots$ \\\\\n",
       "\t17 & 2019 & 1 & 1 & 1 & 1 & $\\dots$ \\\\\n",
       "\t18 & 2019 & 1 & 1 & 1 & 1 & $\\dots$ \\\\\n",
       "\t19 & 2019 & 1 & 1 & 1 & 1 & $\\dots$ \\\\\n",
       "\t20 & 2019 & 1 & 1 & 1 & 1 & $\\dots$ \\\\\n",
       "\t21 & 2019 & 1 & 1 & 1 & 1 & $\\dots$ \\\\\n",
       "\t22 & 2019 & 1 & 1 & 1 & 1 & $\\dots$ \\\\\n",
       "\t23 & 2019 & 1 & 1 & 1 & 1 & $\\dots$ \\\\\n",
       "\t24 & 2019 & 1 & 1 & 1 & 1 & $\\dots$ \\\\\n",
       "\t25 & 2019 & 1 & 1 & 1 & 1 & $\\dots$ \\\\\n",
       "\t26 & 2019 & 1 & 1 & 1 & 1 & $\\dots$ \\\\\n",
       "\t27 & 2019 & 1 & 1 & 1 & 1 & $\\dots$ \\\\\n",
       "\t28 & 2019 & 1 & 1 & 1 & 1 & $\\dots$ \\\\\n",
       "\t29 & 2019 & 1 & 1 & 1 & 1 & $\\dots$ \\\\\n",
       "\t30 & 2019 & 1 & 1 & 1 & 1 & $\\dots$ \\\\\n",
       "\t$\\dots$ & $\\dots$ & $\\dots$ & $\\dots$ & $\\dots$ & $\\dots$ &  \\\\\n",
       "\\end{tabular}\n"
      ],
      "text/plain": [
       "\u001b[1m12350832×105 DataFrame\u001b[0m\n",
       "\u001b[1m      Row \u001b[0m│\u001b[1m NU_ANO_CENSO \u001b[0m\u001b[1m CO_IES \u001b[0m\u001b[1m TP_CATEGORIA_ADMINISTRATIVA \u001b[0m\u001b[1m TP_ORGANIZACAO_\u001b[0m ⋯\n",
       "\u001b[1m          \u001b[0m│\u001b[90m Int64        \u001b[0m\u001b[90m Int64  \u001b[0m\u001b[90m Int64                       \u001b[0m\u001b[90m Int64          \u001b[0m ⋯\n",
       "──────────┼─────────────────────────────────────────────────────────────────────\n",
       "        1 │         2019       1                            1                  ⋯\n",
       "        2 │         2019       1                            1\n",
       "        3 │         2019       1                            1\n",
       "        4 │         2019       1                            1\n",
       "        5 │         2019       1                            1                  ⋯\n",
       "        6 │         2019       1                            1\n",
       "        7 │         2019       1                            1\n",
       "        8 │         2019       1                            1\n",
       "        9 │         2019       1                            1                  ⋯\n",
       "       10 │         2019       1                            1\n",
       "       11 │         2019       1                            1\n",
       "    ⋮     │      ⋮          ⋮                  ⋮                          ⋮    ⋱\n",
       " 12350823 │         2019   24672                            2\n",
       " 12350824 │         2019   24672                            2                  ⋯\n",
       " 12350825 │         2019   24672                            2\n",
       " 12350826 │         2019   24672                            2\n",
       " 12350827 │         2019   24672                            2\n",
       " 12350828 │         2019   24672                            2                  ⋯\n",
       " 12350829 │         2019   24672                            2\n",
       " 12350830 │         2019   24672                            2\n",
       " 12350831 │         2019   24672                            2\n",
       " 12350832 │         2019   24672                            2                  ⋯\n",
       "\u001b[36m                                           102 columns and 12350811 rows omitted\u001b[0m"
      ]
     },
     "execution_count": 3,
     "metadata": {},
     "output_type": "execute_result"
    }
   ],
   "source": [
    "using CSV\n",
    "using DataFrames\n",
    "\n",
    "df = CSV.read(\"SUP_ALUNO_2019.CSV\", DataFrame)"
   ]
  },
  {
   "cell_type": "code",
   "execution_count": null,
   "id": "912fd4e7",
   "metadata": {},
   "outputs": [],
   "source": [
    "# modifying the content of myfile.csv using write method\n",
    "CSV.write(\"sup_aluno_2019.csv\", df)"
   ]
  },
  {
   "cell_type": "code",
   "execution_count": null,
   "id": "85beb5d5",
   "metadata": {},
   "outputs": [],
   "source": []
  }
 ],
 "metadata": {
  "kernelspec": {
   "display_name": "Julia 1.7.2",
   "language": "julia",
   "name": "julia-1.7"
  },
  "language_info": {
   "file_extension": ".jl",
   "mimetype": "application/julia",
   "name": "julia",
   "version": "1.7.2"
  }
 },
 "nbformat": 4,
 "nbformat_minor": 5
}
