{
 "cells": [
  {
   "cell_type": "markdown",
   "id": "651719f7",
   "metadata": {},
   "source": [
    "<pre>\n",
    "<img align=\"center\" width=\"300\" src=\"https://raw.githubusercontent.com/andrelmfsantos/ppga/master/logo%20uninove.png\">\n",
    "</pre>\n",
    "\n",
    "<pre>\n",
    "<img align=\"center\" width=\"150\" src=\"https://camo.githubusercontent.com/bdc6a3b8963aa99ff57dfd6e1e4b937bd2e752bcb1f1936f90368e5c3a38f670/68747470733a2f2f696d672e736869656c64732e696f2f62616467652f4c6963656e73652d434325323042592d2d5341253230342e302d6c69676874677265792e737667\">\n",
    "</pre>"
   ]
  },
  {
   "cell_type": "markdown",
   "id": "987d9b85",
   "metadata": {},
   "source": [
    "<h1 style=\"text-align:center;\">Bibliometria (Análise Descritiva) com Julia Language Programming</h1>"
   ]
  },
  {
   "cell_type": "markdown",
   "id": "76f8e750",
   "metadata": {},
   "source": [
    "|                 |              |\n",
    "|:----------------|:-------------|\n",
    "|**Universidade:**| Nove de Julho|\n",
    "|**Programa:**    | PPGI - Programa de Pós Graduação em Informática |\n",
    "|**Disciplina:**  | Computação Científica com Julia|\n",
    "|**Professor:**   | José E. Storopoli|\n",
    "|**Aluno:**       | André L.M.F.Santos|"
   ]
  },
  {
   "cell_type": "code",
   "execution_count": null,
   "id": "26b25fbf",
   "metadata": {},
   "outputs": [],
   "source": [
    "#using Pkg\n",
    "#Pkg.add(\"CSV\"); Pkg.add(\"DataFrames\"); Pkg.add(\"HTTP\"); Pkg.add(\"Plots\"); Pkg.add(\"PyPlot\"); Pkg.add(\"StatsPlots\"); Pkg.add(\"Distributions\")"
   ]
  },
  {
   "cell_type": "code",
   "execution_count": 1,
   "id": "0473b38e",
   "metadata": {},
   "outputs": [],
   "source": [
    "# Usar pacotes\n",
    "using DataFrames, HTTP, CSV, Dates, Statistics, Plots, StatsPlots, Distributions"
   ]
  },
  {
   "cell_type": "code",
   "execution_count": 2,
   "id": "4278e085",
   "metadata": {},
   "outputs": [
    {
     "data": {
      "text/html": [
       "<div class=\"data-frame\"><p>5 rows × 42 columns (omitted printing of 39 columns)</p><table class=\"data-frame\"><thead><tr><th></th><th>Column1</th><th>AU</th><th>TI</th></tr><tr><th></th><th title=\"String\">String</th><th title=\"String\">String</th><th title=\"String\">String</th></tr></thead><tbody><tr><th>1</th><td>THOMPSON DR, 2015, J ADV NURS</td><td>THOMPSON DR;CLARK AM</td><td>MEASURING RESEARCH SUCCESS VIA BIBLIOMETRICS: WHERE THEY FIT AND HOW THEY HELP AND HINDER</td></tr><tr><th>2</th><td>KHOR KA, 2015, J THERM SPRAY TECHNOL</td><td>KHOR KA;YU LG</td><td>GLOBAL RESEARCH TRENDS IN THERMAL SPRAYED COATINGS TECHNOLOGY ANALYZED WITH BIBLIOMETRICS TOOLS</td></tr><tr><th>3</th><td>WILLIAMS DE, 2015, J ACAD LIBRARIANSH</td><td>WILLIAMS DE</td><td>MEANINGFUL METRICS: A 21ST CENTURY LIBRARIAN&apos;S GUIDE TO BIBLIOMETRICS, ALTMETRICS, AND RESEARCH IMPACT</td></tr><tr><th>4</th><td>YAN S, 2015, SCIENTOMETRICS</td><td>YAN S;SUN J</td><td>ASSESSING CHINA&apos;S SALT LAKE RESOURCES R\\\\&amp;D BASED ON BIBLIOMETRICS ANALYSIS</td></tr><tr><th>5</th><td>COOPER ID, 2015, J MED LIBR ASSOC</td><td>COOPER ID</td><td>BIBLIOMETRICS BASICS</td></tr></tbody></table></div>"
      ],
      "text/latex": [
       "\\begin{tabular}{r|cccc}\n",
       "\t& Column1 & AU & TI & \\\\\n",
       "\t\\hline\n",
       "\t& String & String & String & \\\\\n",
       "\t\\hline\n",
       "\t1 & THOMPSON DR, 2015, J ADV NURS & THOMPSON DR;CLARK AM & MEASURING RESEARCH SUCCESS VIA BIBLIOMETRICS: WHERE THEY FIT AND HOW THEY HELP AND HINDER & $\\dots$ \\\\\n",
       "\t2 & KHOR KA, 2015, J THERM SPRAY TECHNOL & KHOR KA;YU LG & GLOBAL RESEARCH TRENDS IN THERMAL SPRAYED COATINGS TECHNOLOGY ANALYZED WITH BIBLIOMETRICS TOOLS & $\\dots$ \\\\\n",
       "\t3 & WILLIAMS DE, 2015, J ACAD LIBRARIANSH & WILLIAMS DE & MEANINGFUL METRICS: A 21ST CENTURY LIBRARIAN'S GUIDE TO BIBLIOMETRICS, ALTMETRICS, AND RESEARCH IMPACT & $\\dots$ \\\\\n",
       "\t4 & YAN S, 2015, SCIENTOMETRICS & YAN S;SUN J & ASSESSING CHINA'S SALT LAKE RESOURCES R\\textbackslash{}\\textbackslash{}\\&D BASED ON BIBLIOMETRICS ANALYSIS & $\\dots$ \\\\\n",
       "\t5 & COOPER ID, 2015, J MED LIBR ASSOC & COOPER ID & BIBLIOMETRICS BASICS & $\\dots$ \\\\\n",
       "\\end{tabular}\n"
      ],
      "text/plain": [
       "\u001b[1m5×42 DataFrame\u001b[0m\n",
       "\u001b[1m Row \u001b[0m│\u001b[1m Column1                           \u001b[0m\u001b[1m AU                   \u001b[0m\u001b[1m TI            \u001b[0m ⋯\n",
       "\u001b[1m     \u001b[0m│\u001b[90m String                            \u001b[0m\u001b[90m String               \u001b[0m\u001b[90m String        \u001b[0m ⋯\n",
       "─────┼──────────────────────────────────────────────────────────────────────────\n",
       "   1 │ THOMPSON DR, 2015, J ADV NURS      THOMPSON DR;CLARK AM  MEASURING RESE ⋯\n",
       "   2 │ KHOR KA, 2015, J THERM SPRAY TEC…  KHOR KA;YU LG         GLOBAL RESEARC\n",
       "   3 │ WILLIAMS DE, 2015, J ACAD LIBRAR…  WILLIAMS DE           MEANINGFUL MET\n",
       "   4 │ YAN S, 2015, SCIENTOMETRICS        YAN S;SUN J           ASSESSING CHIN\n",
       "   5 │ COOPER ID, 2015, J MED LIBR ASSOC  COOPER ID             BIBLIOMETRICS  ⋯\n",
       "\u001b[36m                                                              40 columns omitted\u001b[0m"
      ]
     },
     "execution_count": 2,
     "metadata": {},
     "output_type": "execute_result"
    }
   ],
   "source": [
    "# Ler arquivo csv no github\n",
    "#using DataFrames, HTTP, CSV\n",
    "resp = HTTP.request(\"GET\", \"https://raw.githubusercontent.com/andrelmfsantos/df/main/savedrecs1.csv?accessType=DOWNLOAD\")\n",
    "df = CSV.read(IOBuffer(String(resp.body)), DataFrame);\n",
    "first(df,5)"
   ]
  },
  {
   "cell_type": "code",
   "execution_count": 3,
   "id": "9c9ff10a",
   "metadata": {},
   "outputs": [
    {
     "name": "stdout",
     "output_type": "stream",
     "text": [
      "Manuscripts = 291\n"
     ]
    }
   ],
   "source": [
    "# Articles: total number of manuscripts\n",
    "println(\"Manuscripts = \", nrow(df))"
   ]
  },
  {
   "cell_type": "code",
   "execution_count": 82,
   "id": "0cc7e3f6",
   "metadata": {},
   "outputs": [
    {
     "data": {
      "text/html": [
       "<div class=\"data-frame\"><p>31 rows × 2 columns</p><table class=\"data-frame\"><thead><tr><th></th><th>Year</th><th>Manuscripts</th></tr><tr><th></th><th title=\"Int64\">Int64</th><th title=\"Int64\">Int64</th></tr></thead><tbody><tr><th>1</th><td>1985</td><td>4</td></tr><tr><th>2</th><td>1986</td><td>3</td></tr><tr><th>3</th><td>1987</td><td>6</td></tr><tr><th>4</th><td>1988</td><td>7</td></tr><tr><th>5</th><td>1989</td><td>8</td></tr><tr><th>6</th><td>1990</td><td>6</td></tr><tr><th>7</th><td>1991</td><td>7</td></tr><tr><th>8</th><td>1992</td><td>6</td></tr><tr><th>9</th><td>1993</td><td>5</td></tr><tr><th>10</th><td>1994</td><td>7</td></tr><tr><th>11</th><td>1995</td><td>1</td></tr><tr><th>12</th><td>1996</td><td>8</td></tr><tr><th>13</th><td>1997</td><td>4</td></tr><tr><th>14</th><td>1998</td><td>5</td></tr><tr><th>15</th><td>1999</td><td>2</td></tr><tr><th>16</th><td>2000</td><td>7</td></tr><tr><th>17</th><td>2001</td><td>8</td></tr><tr><th>18</th><td>2002</td><td>5</td></tr><tr><th>19</th><td>2003</td><td>1</td></tr><tr><th>20</th><td>2004</td><td>3</td></tr><tr><th>21</th><td>2005</td><td>12</td></tr><tr><th>22</th><td>2006</td><td>5</td></tr><tr><th>23</th><td>2007</td><td>5</td></tr><tr><th>24</th><td>2008</td><td>8</td></tr><tr><th>25</th><td>2009</td><td>14</td></tr><tr><th>26</th><td>2010</td><td>17</td></tr><tr><th>27</th><td>2011</td><td>20</td></tr><tr><th>28</th><td>2012</td><td>25</td></tr><tr><th>29</th><td>2013</td><td>21</td></tr><tr><th>30</th><td>2014</td><td>29</td></tr><tr><th>&vellip;</th><td>&vellip;</td><td>&vellip;</td></tr></tbody></table></div>"
      ],
      "text/latex": [
       "\\begin{tabular}{r|cc}\n",
       "\t& Year & Manuscripts\\\\\n",
       "\t\\hline\n",
       "\t& Int64 & Int64\\\\\n",
       "\t\\hline\n",
       "\t1 & 1985 & 4 \\\\\n",
       "\t2 & 1986 & 3 \\\\\n",
       "\t3 & 1987 & 6 \\\\\n",
       "\t4 & 1988 & 7 \\\\\n",
       "\t5 & 1989 & 8 \\\\\n",
       "\t6 & 1990 & 6 \\\\\n",
       "\t7 & 1991 & 7 \\\\\n",
       "\t8 & 1992 & 6 \\\\\n",
       "\t9 & 1993 & 5 \\\\\n",
       "\t10 & 1994 & 7 \\\\\n",
       "\t11 & 1995 & 1 \\\\\n",
       "\t12 & 1996 & 8 \\\\\n",
       "\t13 & 1997 & 4 \\\\\n",
       "\t14 & 1998 & 5 \\\\\n",
       "\t15 & 1999 & 2 \\\\\n",
       "\t16 & 2000 & 7 \\\\\n",
       "\t17 & 2001 & 8 \\\\\n",
       "\t18 & 2002 & 5 \\\\\n",
       "\t19 & 2003 & 1 \\\\\n",
       "\t20 & 2004 & 3 \\\\\n",
       "\t21 & 2005 & 12 \\\\\n",
       "\t22 & 2006 & 5 \\\\\n",
       "\t23 & 2007 & 5 \\\\\n",
       "\t24 & 2008 & 8 \\\\\n",
       "\t25 & 2009 & 14 \\\\\n",
       "\t26 & 2010 & 17 \\\\\n",
       "\t27 & 2011 & 20 \\\\\n",
       "\t28 & 2012 & 25 \\\\\n",
       "\t29 & 2013 & 21 \\\\\n",
       "\t30 & 2014 & 29 \\\\\n",
       "\t$\\dots$ & $\\dots$ & $\\dots$ \\\\\n",
       "\\end{tabular}\n"
      ],
      "text/plain": [
       "\u001b[1m31×2 DataFrame\u001b[0m\n",
       "\u001b[1m Row \u001b[0m│\u001b[1m Year  \u001b[0m\u001b[1m Manuscripts \u001b[0m\n",
       "\u001b[1m     \u001b[0m│\u001b[90m Int64 \u001b[0m\u001b[90m Int64       \u001b[0m\n",
       "─────┼────────────────────\n",
       "   1 │  1985            4\n",
       "   2 │  1986            3\n",
       "   3 │  1987            6\n",
       "   4 │  1988            7\n",
       "   5 │  1989            8\n",
       "   6 │  1990            6\n",
       "   7 │  1991            7\n",
       "   8 │  1992            6\n",
       "   9 │  1993            5\n",
       "  10 │  1994            7\n",
       "  11 │  1995            1\n",
       "  ⋮  │   ⋮         ⋮\n",
       "  22 │  2006            5\n",
       "  23 │  2007            5\n",
       "  24 │  2008            8\n",
       "  25 │  2009           14\n",
       "  26 │  2010           17\n",
       "  27 │  2011           20\n",
       "  28 │  2012           25\n",
       "  29 │  2013           21\n",
       "  30 │  2014           29\n",
       "  31 │  2015           32\n",
       "\u001b[36m           10 rows omitted\u001b[0m"
      ]
     },
     "execution_count": 82,
     "metadata": {},
     "output_type": "execute_result"
    }
   ],
   "source": [
    "# Years: publication year of each manuscript\n",
    "Manuscript_By_Year = combine(groupby(df, :PY), nrow)\n",
    "Manuscript_By_Year = sort!(Manuscript_By_Year,:PY)\n",
    "colnames = [\"Year\",\"Manuscripts\"]\n",
    "rename!(Manuscript_By_Year, Symbol.(colnames))"
   ]
  },
  {
   "cell_type": "code",
   "execution_count": 83,
   "id": "98102c61",
   "metadata": {},
   "outputs": [
    {
     "data": {
      "text/plain": [
       "9.39"
      ]
     },
     "execution_count": 83,
     "metadata": {},
     "output_type": "execute_result"
    }
   ],
   "source": [
    "# Average publications per year\n",
    "round(mean(Manuscript_By_Year.Manuscripts); digits = 2)"
   ]
  },
  {
   "cell_type": "code",
   "execution_count": 84,
   "id": "f0676ec6",
   "metadata": {},
   "outputs": [
    {
     "data": {
      "text/html": [
       "<div class=\"data-frame\"><p>141 rows × 2 columns</p><table class=\"data-frame\"><thead><tr><th></th><th>Source</th><th>Manuscripts</th></tr><tr><th></th><th title=\"String\">String</th><th title=\"Int64\">Int64</th></tr></thead><tbody><tr><th>1</th><td>SCIENTOMETRICS</td><td>49</td></tr><tr><th>2</th><td>JOURNAL OF THE AMERICAN SOCIETY FOR INFORMATION SCIENCE AND TECHNOLOGY</td><td>14</td></tr><tr><th>3</th><td>JOURNAL OF THE AMERICAN SOCIETY FOR INFORMATION SCIENCE</td><td>8</td></tr><tr><th>4</th><td>JOURNAL OF INFORMETRICS</td><td>6</td></tr><tr><th>5</th><td>JOURNAL OF DOCUMENTATION</td><td>6</td></tr><tr><th>6</th><td>JOURNAL OF INFORMATION SCIENCE</td><td>6</td></tr><tr><th>7</th><td>TECHNOLOGICAL FORECASTING AND SOCIAL CHANGE</td><td>5</td></tr><tr><th>8</th><td>BRITISH JOURNAL OF ANAESTHESIA</td><td>5</td></tr><tr><th>9</th><td>SOCIAL WORK IN HEALTH CARE</td><td>5</td></tr><tr><th>10</th><td>LIBRI</td><td>5</td></tr><tr><th>11</th><td>LIBRARY \\\\&amp; INFORMATION SCIENCE RESEARCH</td><td>4</td></tr><tr><th>12</th><td>NATURE</td><td>4</td></tr><tr><th>13</th><td>RESEARCH EVALUATION</td><td>4</td></tr><tr><th>14</th><td>INTERNATIONAL FORUM ON INFORMATION AND DOCUMENTATION</td><td>4</td></tr><tr><th>15</th><td>COMMUNICATION RESEARCH</td><td>4</td></tr><tr><th>16</th><td>JOURNAL OF ADVANCED NURSING</td><td>3</td></tr><tr><th>17</th><td>JOURNAL OF ACADEMIC LIBRARIANSHIP</td><td>3</td></tr><tr><th>18</th><td>LIBRARY JOURNAL</td><td>3</td></tr><tr><th>19</th><td>CURRENT SCIENCE</td><td>3</td></tr><tr><th>20</th><td>REPRODUCTIVE BIOMEDICINE ONLINE</td><td>3</td></tr><tr><th>21</th><td>AUSTRALASIAN JOURNAL OF EDUCATIONAL TECHNOLOGY</td><td>3</td></tr><tr><th>22</th><td>ANNUAL REVIEW OF INFORMATION SCIENCE AND TECHNOLOGY</td><td>3</td></tr><tr><th>23</th><td>JOURNAL OF CHEMICAL INFORMATION AND COMPUTER SCIENCES</td><td>3</td></tr><tr><th>24</th><td>PROCEEDINGS OF THE ASIS ANNUAL MEETING</td><td>3</td></tr><tr><th>25</th><td>JOURNAL OF THE ASSOCIATION FOR INFORMATION SCIENCE AND TECHNOLOGY</td><td>2</td></tr><tr><th>26</th><td>SCIENCE AND PUBLIC POLICY</td><td>2</td></tr><tr><th>27</th><td>JOURNAL OF PERIODONTOLOGY</td><td>2</td></tr><tr><th>28</th><td>ZEITSCHRIFT FUR BIBLIOTHEKSWESEN UND BIBLIOGRAPHIE</td><td>2</td></tr><tr><th>29</th><td>INFORMATION RESEARCH-AN INTERNATIONAL ELECTRONIC JOURNAL</td><td>2</td></tr><tr><th>30</th><td>CONTROL ENGINEERING AND APPLIED INFORMATICS</td><td>2</td></tr><tr><th>&vellip;</th><td>&vellip;</td><td>&vellip;</td></tr></tbody></table></div>"
      ],
      "text/latex": [
       "\\begin{tabular}{r|cc}\n",
       "\t& Source & Manuscripts\\\\\n",
       "\t\\hline\n",
       "\t& String & Int64\\\\\n",
       "\t\\hline\n",
       "\t1 & SCIENTOMETRICS & 49 \\\\\n",
       "\t2 & JOURNAL OF THE AMERICAN SOCIETY FOR INFORMATION SCIENCE AND TECHNOLOGY & 14 \\\\\n",
       "\t3 & JOURNAL OF THE AMERICAN SOCIETY FOR INFORMATION SCIENCE & 8 \\\\\n",
       "\t4 & JOURNAL OF INFORMETRICS & 6 \\\\\n",
       "\t5 & JOURNAL OF DOCUMENTATION & 6 \\\\\n",
       "\t6 & JOURNAL OF INFORMATION SCIENCE & 6 \\\\\n",
       "\t7 & TECHNOLOGICAL FORECASTING AND SOCIAL CHANGE & 5 \\\\\n",
       "\t8 & BRITISH JOURNAL OF ANAESTHESIA & 5 \\\\\n",
       "\t9 & SOCIAL WORK IN HEALTH CARE & 5 \\\\\n",
       "\t10 & LIBRI & 5 \\\\\n",
       "\t11 & LIBRARY \\textbackslash{}\\textbackslash{}\\& INFORMATION SCIENCE RESEARCH & 4 \\\\\n",
       "\t12 & NATURE & 4 \\\\\n",
       "\t13 & RESEARCH EVALUATION & 4 \\\\\n",
       "\t14 & INTERNATIONAL FORUM ON INFORMATION AND DOCUMENTATION & 4 \\\\\n",
       "\t15 & COMMUNICATION RESEARCH & 4 \\\\\n",
       "\t16 & JOURNAL OF ADVANCED NURSING & 3 \\\\\n",
       "\t17 & JOURNAL OF ACADEMIC LIBRARIANSHIP & 3 \\\\\n",
       "\t18 & LIBRARY JOURNAL & 3 \\\\\n",
       "\t19 & CURRENT SCIENCE & 3 \\\\\n",
       "\t20 & REPRODUCTIVE BIOMEDICINE ONLINE & 3 \\\\\n",
       "\t21 & AUSTRALASIAN JOURNAL OF EDUCATIONAL TECHNOLOGY & 3 \\\\\n",
       "\t22 & ANNUAL REVIEW OF INFORMATION SCIENCE AND TECHNOLOGY & 3 \\\\\n",
       "\t23 & JOURNAL OF CHEMICAL INFORMATION AND COMPUTER SCIENCES & 3 \\\\\n",
       "\t24 & PROCEEDINGS OF THE ASIS ANNUAL MEETING & 3 \\\\\n",
       "\t25 & JOURNAL OF THE ASSOCIATION FOR INFORMATION SCIENCE AND TECHNOLOGY & 2 \\\\\n",
       "\t26 & SCIENCE AND PUBLIC POLICY & 2 \\\\\n",
       "\t27 & JOURNAL OF PERIODONTOLOGY & 2 \\\\\n",
       "\t28 & ZEITSCHRIFT FUR BIBLIOTHEKSWESEN UND BIBLIOGRAPHIE & 2 \\\\\n",
       "\t29 & INFORMATION RESEARCH-AN INTERNATIONAL ELECTRONIC JOURNAL & 2 \\\\\n",
       "\t30 & CONTROL ENGINEERING AND APPLIED INFORMATICS & 2 \\\\\n",
       "\t$\\dots$ & $\\dots$ & $\\dots$ \\\\\n",
       "\\end{tabular}\n"
      ],
      "text/plain": [
       "\u001b[1m141×2 DataFrame\u001b[0m\n",
       "\u001b[1m Row \u001b[0m│\u001b[1m Source                            \u001b[0m\u001b[1m Manuscripts \u001b[0m\n",
       "\u001b[1m     \u001b[0m│\u001b[90m String                            \u001b[0m\u001b[90m Int64       \u001b[0m\n",
       "─────┼────────────────────────────────────────────────\n",
       "   1 │ SCIENTOMETRICS                              49\n",
       "   2 │ JOURNAL OF THE AMERICAN SOCIETY …           14\n",
       "   3 │ JOURNAL OF THE AMERICAN SOCIETY …            8\n",
       "   4 │ JOURNAL OF INFORMETRICS                      6\n",
       "   5 │ JOURNAL OF DOCUMENTATION                     6\n",
       "   6 │ JOURNAL OF INFORMATION SCIENCE               6\n",
       "   7 │ TECHNOLOGICAL FORECASTING AND SO…            5\n",
       "   8 │ BRITISH JOURNAL OF ANAESTHESIA               5\n",
       "   9 │ SOCIAL WORK IN HEALTH CARE                   5\n",
       "  10 │ LIBRI                                        5\n",
       "  11 │ LIBRARY \\\\& INFORMATION SCIENCE …            4\n",
       "  ⋮  │                 ⋮                       ⋮\n",
       " 132 │ CLINICAL CHEMISTRY                           1\n",
       " 133 │ ANALUSIS                                     1\n",
       " 134 │ PHYSICS WORLD                                1\n",
       " 135 │ ANNALS OF MEDICINE                           1\n",
       " 136 │ COMMUNICATION AND COGNITION                  1\n",
       " 137 │ INFORMATION TECHNOLOGY AND LIBRA…            1\n",
       " 138 │ EDUCATION FOR INFORMATION                    1\n",
       " 139 │ INTERNATIONAL LIBRARY REVIEW                 1\n",
       " 140 │ NAUCHNO-TEKHNICHESKAYA INFORMATS…            1\n",
       " 141 │ SPECIAL LIBRARIES                            1\n",
       "\u001b[36m                                      120 rows omitted\u001b[0m"
      ]
     },
     "execution_count": 84,
     "metadata": {},
     "output_type": "execute_result"
    }
   ],
   "source": [
    "# Sources (Journals, Books, etc)\n",
    "Source = combine(groupby(df, :SO), nrow)\n",
    "Source = sort!(Source,:nrow, rev = true)\n",
    "colnames = [\"Source\",\"Manuscripts\"]\n",
    "rename!(Source, Symbol.(colnames))"
   ]
  },
  {
   "cell_type": "code",
   "execution_count": 85,
   "id": "ec26ac4f",
   "metadata": {},
   "outputs": [
    {
     "data": {
      "text/html": [
       "<div class=\"data-frame\"><p>11 rows × 2 columns</p><table class=\"data-frame\"><thead><tr><th></th><th>Document Types</th><th>Total</th></tr><tr><th></th><th title=\"String31\">String31</th><th title=\"Int64\">Int64</th></tr></thead><tbody><tr><th>1</th><td>ARTICLE</td><td>160</td></tr><tr><th>2</th><td>EDITORIAL MATERIAL</td><td>41</td></tr><tr><th>3</th><td>BOOK REVIEW</td><td>32</td></tr><tr><th>4</th><td>REVIEW</td><td>25</td></tr><tr><th>5</th><td>LETTER</td><td>16</td></tr><tr><th>6</th><td>ARTICLE, PROCEEDINGS PAPER</td><td>7</td></tr><tr><th>7</th><td>MEETING ABSTRACT</td><td>4</td></tr><tr><th>8</th><td>NOTE</td><td>3</td></tr><tr><th>9</th><td>ART EXHIBIT REVIEW</td><td>1</td></tr><tr><th>10</th><td>BIOGRAPHICAL-ITEM</td><td>1</td></tr><tr><th>11</th><td>CORRECTION, ADDITION</td><td>1</td></tr></tbody></table></div>"
      ],
      "text/latex": [
       "\\begin{tabular}{r|cc}\n",
       "\t& Document Types & Total\\\\\n",
       "\t\\hline\n",
       "\t& String31 & Int64\\\\\n",
       "\t\\hline\n",
       "\t1 & ARTICLE & 160 \\\\\n",
       "\t2 & EDITORIAL MATERIAL & 41 \\\\\n",
       "\t3 & BOOK REVIEW & 32 \\\\\n",
       "\t4 & REVIEW & 25 \\\\\n",
       "\t5 & LETTER & 16 \\\\\n",
       "\t6 & ARTICLE, PROCEEDINGS PAPER & 7 \\\\\n",
       "\t7 & MEETING ABSTRACT & 4 \\\\\n",
       "\t8 & NOTE & 3 \\\\\n",
       "\t9 & ART EXHIBIT REVIEW & 1 \\\\\n",
       "\t10 & BIOGRAPHICAL-ITEM & 1 \\\\\n",
       "\t11 & CORRECTION, ADDITION & 1 \\\\\n",
       "\\end{tabular}\n"
      ],
      "text/plain": [
       "\u001b[1m11×2 DataFrame\u001b[0m\n",
       "\u001b[1m Row \u001b[0m│\u001b[1m Document Types             \u001b[0m\u001b[1m Total \u001b[0m\n",
       "\u001b[1m     \u001b[0m│\u001b[90m String31                   \u001b[0m\u001b[90m Int64 \u001b[0m\n",
       "─────┼───────────────────────────────────\n",
       "   1 │ ARTICLE                       160\n",
       "   2 │ EDITORIAL MATERIAL             41\n",
       "   3 │ BOOK REVIEW                    32\n",
       "   4 │ REVIEW                         25\n",
       "   5 │ LETTER                         16\n",
       "   6 │ ARTICLE, PROCEEDINGS PAPER      7\n",
       "   7 │ MEETING ABSTRACT                4\n",
       "   8 │ NOTE                            3\n",
       "   9 │ ART EXHIBIT REVIEW              1\n",
       "  10 │ BIOGRAPHICAL-ITEM               1\n",
       "  11 │ CORRECTION, ADDITION            1"
      ]
     },
     "execution_count": 85,
     "metadata": {},
     "output_type": "execute_result"
    }
   ],
   "source": [
    "# Document Types: publications by kind of document\n",
    "Document_Types = combine(groupby(df, :DT), nrow)\n",
    "Document_Types = sort!(Document_Types,:nrow, rev = true)\n",
    "colnames = [\"Document Types\",\"Total\"]\n",
    "Document_Types = rename!(Document_Types, Symbol.(colnames))"
   ]
  },
  {
   "cell_type": "code",
   "execution_count": 86,
   "id": "3ae6e83c",
   "metadata": {},
   "outputs": [
    {
     "data": {
      "text/html": [
       "<div class=\"data-frame\"><p>263 rows × 2 columns</p><table class=\"data-frame\"><thead><tr><th></th><th>Authors</th><th>Manuscripts</th></tr><tr><th></th><th title=\"String\">String</th><th title=\"Int64\">Int64</th></tr></thead><tbody><tr><th>1</th><td>ATKINSON R</td><td>3</td></tr><tr><th>2</th><td>WHITE HD</td><td>3</td></tr><tr><th>3</th><td>HOLDEN G;ROSENBERG G;BARKER K</td><td>3</td></tr><tr><th>4</th><td>CRONIN B</td><td>3</td></tr><tr><th>5</th><td>BROADUS RN</td><td>3</td></tr><tr><th>6</th><td>ZITT M</td><td>2</td></tr><tr><th>7</th><td>BORNMANN L;MARX W</td><td>2</td></tr><tr><th>8</th><td>PRATHAP G</td><td>2</td></tr><tr><th>9</th><td>ADAMS J</td><td>2</td></tr><tr><th>10</th><td>BORNMANN L</td><td>2</td></tr><tr><th>11</th><td>MUNOZ-PEREZ F</td><td>2</td></tr><tr><th>12</th><td>MOPPETT IK;HARDMAN JG</td><td>2</td></tr><tr><th>13</th><td>PAGEL PS;HUDETZ JA</td><td>2</td></tr><tr><th>14</th><td>THELWALL M</td><td>2</td></tr><tr><th>15</th><td>OPPENHEIM C</td><td>2</td></tr><tr><th>16</th><td>BORGMAN CL</td><td>2</td></tr><tr><th>17</th><td>DING Y</td><td>2</td></tr><tr><th>18</th><td>MCCAIN KW</td><td>2</td></tr><tr><th>19</th><td>OSAREH F</td><td>2</td></tr><tr><th>20</th><td>PERITZ BC</td><td>2</td></tr><tr><th>21</th><td>HARTER SP</td><td>2</td></tr><tr><th>22</th><td>LIEVROUW LA</td><td>2</td></tr><tr><th>23</th><td>BROOKES BC</td><td>2</td></tr><tr><th>24</th><td>THOMPSON DR;CLARK AM</td><td>1</td></tr><tr><th>25</th><td>KHOR KA;YU LG</td><td>1</td></tr><tr><th>26</th><td>WILLIAMS DE</td><td>1</td></tr><tr><th>27</th><td>YAN S;SUN J</td><td>1</td></tr><tr><th>28</th><td>COOPER ID</td><td>1</td></tr><tr><th>29</th><td>FORSMAN M</td><td>1</td></tr><tr><th>30</th><td>O&apos;LEARY JD;CRAWFORD MW;JURCZYK E;BUCHAN A</td><td>1</td></tr><tr><th>&vellip;</th><td>&vellip;</td><td>&vellip;</td></tr></tbody></table></div>"
      ],
      "text/latex": [
       "\\begin{tabular}{r|cc}\n",
       "\t& Authors & Manuscripts\\\\\n",
       "\t\\hline\n",
       "\t& String & Int64\\\\\n",
       "\t\\hline\n",
       "\t1 & ATKINSON R & 3 \\\\\n",
       "\t2 & WHITE HD & 3 \\\\\n",
       "\t3 & HOLDEN G;ROSENBERG G;BARKER K & 3 \\\\\n",
       "\t4 & CRONIN B & 3 \\\\\n",
       "\t5 & BROADUS RN & 3 \\\\\n",
       "\t6 & ZITT M & 2 \\\\\n",
       "\t7 & BORNMANN L;MARX W & 2 \\\\\n",
       "\t8 & PRATHAP G & 2 \\\\\n",
       "\t9 & ADAMS J & 2 \\\\\n",
       "\t10 & BORNMANN L & 2 \\\\\n",
       "\t11 & MUNOZ-PEREZ F & 2 \\\\\n",
       "\t12 & MOPPETT IK;HARDMAN JG & 2 \\\\\n",
       "\t13 & PAGEL PS;HUDETZ JA & 2 \\\\\n",
       "\t14 & THELWALL M & 2 \\\\\n",
       "\t15 & OPPENHEIM C & 2 \\\\\n",
       "\t16 & BORGMAN CL & 2 \\\\\n",
       "\t17 & DING Y & 2 \\\\\n",
       "\t18 & MCCAIN KW & 2 \\\\\n",
       "\t19 & OSAREH F & 2 \\\\\n",
       "\t20 & PERITZ BC & 2 \\\\\n",
       "\t21 & HARTER SP & 2 \\\\\n",
       "\t22 & LIEVROUW LA & 2 \\\\\n",
       "\t23 & BROOKES BC & 2 \\\\\n",
       "\t24 & THOMPSON DR;CLARK AM & 1 \\\\\n",
       "\t25 & KHOR KA;YU LG & 1 \\\\\n",
       "\t26 & WILLIAMS DE & 1 \\\\\n",
       "\t27 & YAN S;SUN J & 1 \\\\\n",
       "\t28 & COOPER ID & 1 \\\\\n",
       "\t29 & FORSMAN M & 1 \\\\\n",
       "\t30 & O'LEARY JD;CRAWFORD MW;JURCZYK E;BUCHAN A & 1 \\\\\n",
       "\t$\\dots$ & $\\dots$ & $\\dots$ \\\\\n",
       "\\end{tabular}\n"
      ],
      "text/plain": [
       "\u001b[1m263×2 DataFrame\u001b[0m\n",
       "\u001b[1m Row \u001b[0m│\u001b[1m Authors                       \u001b[0m\u001b[1m Manuscripts \u001b[0m\n",
       "\u001b[1m     \u001b[0m│\u001b[90m String                        \u001b[0m\u001b[90m Int64       \u001b[0m\n",
       "─────┼────────────────────────────────────────────\n",
       "   1 │ ATKINSON R                               3\n",
       "   2 │ WHITE HD                                 3\n",
       "   3 │ HOLDEN G;ROSENBERG G;BARKER K            3\n",
       "   4 │ CRONIN B                                 3\n",
       "   5 │ BROADUS RN                               3\n",
       "   6 │ ZITT M                                   2\n",
       "   7 │ BORNMANN L;MARX W                        2\n",
       "   8 │ PRATHAP G                                2\n",
       "   9 │ ADAMS J                                  2\n",
       "  10 │ BORNMANN L                               2\n",
       "  11 │ MUNOZ-PEREZ F                            2\n",
       "  ⋮  │               ⋮                     ⋮\n",
       " 254 │ BRAUN T                                  1\n",
       " 255 │ LINE MB                                  1\n",
       " 256 │ SITARSKA A                               1\n",
       " 257 │ WALLACE DP                               1\n",
       " 258 │ SEN SK;KUNDRA R                          1\n",
       " 259 │ PERSSON O                                1\n",
       " 260 │ DEGLAS F                                 1\n",
       " 261 │ IKPAAHINDI L                             1\n",
       " 262 │ VOVERENE O                               1\n",
       " 263 │ WHITE EC                                 1\n",
       "\u001b[36m                                  242 rows omitted\u001b[0m"
      ]
     },
     "execution_count": 86,
     "metadata": {},
     "output_type": "execute_result"
    }
   ],
   "source": [
    "# Author by groups\n",
    "AU_Group = combine(groupby(df, :AU), nrow)\n",
    "AU_Group = sort!(AU_Group,:nrow, rev = true)\n",
    "colnames = [\"Authors\",\"Manuscripts\"]\n",
    "AU_Group = rename!(AU_Group, Symbol.(colnames))"
   ]
  },
  {
   "cell_type": "code",
   "execution_count": 87,
   "id": "8d865689",
   "metadata": {},
   "outputs": [
    {
     "data": {
      "text/plain": [
       "1.11"
      ]
     },
     "execution_count": 87,
     "metadata": {},
     "output_type": "execute_result"
    }
   ],
   "source": [
    "# Group of authors per document\n",
    "round(mean(AU_Group.Manuscripts); digits = 2)"
   ]
  },
  {
   "cell_type": "code",
   "execution_count": 88,
   "id": "886ecc4e",
   "metadata": {},
   "outputs": [
    {
     "data": {
      "text/plain": [
       "2.33"
      ]
     },
     "execution_count": 88,
     "metadata": {},
     "output_type": "execute_result"
    }
   ],
   "source": [
    "# Author per document\n",
    "AU_Document = (split.(AU_Group.Authors,\";\"))\n",
    "round(sum(length.(AU_Document))/nrow(AU_Group); digits = 2)"
   ]
  },
  {
   "cell_type": "code",
   "execution_count": 89,
   "id": "78f655c7",
   "metadata": {},
   "outputs": [
    {
     "name": "stdout",
     "output_type": "stream",
     "text": [
      "Timespan:\n",
      "first year = [1985]\n",
      "last year = [2015]\n"
     ]
    }
   ],
   "source": [
    "# Timespan\n",
    "year_min = minimum(df.PY,dims=1)                              \n",
    "year_max = maximum(df.PY,dims=1)                              \n",
    "println(\"Timespan:\\n\",\"first year = \",year_min, \"\\nlast year = \",year_max)  "
   ]
  },
  {
   "cell_type": "code",
   "execution_count": 90,
   "id": "4aed11a8",
   "metadata": {},
   "outputs": [
    {
     "data": {
      "text/plain": [
       "11.73"
      ]
     },
     "execution_count": 90,
     "metadata": {},
     "output_type": "execute_result"
    }
   ],
   "source": [
    "# Average citation per documents\n",
    "round(mean(df.TC); digits = 2)"
   ]
  }
 ],
 "metadata": {
  "kernelspec": {
   "display_name": "Julia 1.7.2",
   "language": "julia",
   "name": "julia-1.7"
  },
  "language_info": {
   "file_extension": ".jl",
   "mimetype": "application/julia",
   "name": "julia",
   "version": "1.7.2"
  }
 },
 "nbformat": 4,
 "nbformat_minor": 5
}
